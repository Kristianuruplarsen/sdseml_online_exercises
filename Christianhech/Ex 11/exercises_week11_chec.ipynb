{
 "cells": [
  {
   "cell_type": "markdown",
   "metadata": {},
   "source": [
    "# Week 11: Networks 3 (epidemiology)\n"
   ]
  },
  {
   "cell_type": "markdown",
   "metadata": {
    "ExecuteTime": {
     "end_time": "2017-08-23T15:30:03.634114Z",
     "start_time": "2017-08-23T15:30:03.629294Z"
    }
   },
   "source": [
    "While researchers have been modeling the spread of diseases and information for many years, the COVID-19 pandemic playing out right now puts a new emphasis on the importance of being able to model (and thus predict) how diseases propagate through populations. So how do you most effectively model the spread of a disease? There are many^ ways, and all of them (at least the useful ones) involves networks. In this notebook you will get your hands on a couple different modeling approaches. Specifically:\n",
    "\n",
    "* Spreading processes on static networks\n",
    "* Spreading processes on temporal networks\n",
    "* Metapopulation models"
   ]
  },
  {
   "cell_type": "markdown",
   "metadata": {},
   "source": [
    "**Questions**: Outside of class, use [issue on GitHub](https://github.com/abjer/tsds/issues) for asking questions."
   ]
  },
  {
   "cell_type": "markdown",
   "metadata": {},
   "source": [
    "## Imports"
   ]
  },
  {
   "cell_type": "code",
   "execution_count": 1,
   "metadata": {
    "ExecuteTime": {
     "end_time": "2020-04-24T11:47:07.339115Z",
     "start_time": "2020-04-24T11:47:06.861645Z"
    }
   },
   "outputs": [],
   "source": [
    "%matplotlib inline\n",
    "import matplotlib.pylab as plt\n",
    "import networkx as nx\n",
    "import netwulf as nw"
   ]
  },
  {
   "cell_type": "markdown",
   "metadata": {},
   "source": [
    "## Exercises"
   ]
  },
  {
   "cell_type": "markdown",
   "metadata": {},
   "source": [
    "In a *contact network* nodes are people and links represent interactions that can happen between people. You can use such a network as a *substrate* for simulating the spreading of \"something\". Spreading of what? That's up to you. It can be a disease, a behavior, a piece of information, anything you can imagine people may pass along. There's a whole subfield of Network Science which deals with this, but the fundamental idea is actually quite simple:\n",
    "\n",
    "> Nodes that are connected can transmit this \"something\" with a probability. Each timestep of the simulation is an opportunity for the \"something\" to spread.\n",
    "\n",
    "You can then make this more nuanced by adding extra criteria for transmission. For disease modeling these can e.g. be that nodes can only be infected after multiple exposures or if multiple neighbors are infected, that they can be cured and become resistant/susceptible with some probability, that they may die and exit the simulation creating a void in the network, that becoming infected makes them change their links, that godzilla walks in and eats everyone—the possibilities are endless and you decide which rules exist in the simulation universe."
   ]
  },
  {
   "cell_type": "markdown",
   "metadata": {},
   "source": [
    "Generally speaking, there are four major classes of so-called \"compartmental models\" in network epidemiology:\n",
    "* *Susceptible-Infected (SI)*: Nodes are susceptible at start, and once they are infected they never recover. This models spreading of unforgetable information, or diseases that people get and pass on, and never recover from (like HIV, herpes, etc.).\n",
    "* *Susceptible-Infected-Susceptible (SIS)*: Nodes are susceptible, then get infected and stay infected for some time, then get susceptible again, an the cycle continues. This could model things like the flu which comes and goes and you get and recover from over and over again.\n",
    "* *Susceptible-Infected-Resistant (SIR)*: Nodes become infected and after some time they gain resistance so that they can niether become infected nor spread disease/information further. Once they are resistant they are essentially \"removed\" from the network, so this type of model works for diseases where people recover and gain resistance as well as ones that kill people, as niether type of person can transmit (measles, chickenpox but also rabies, Creutzfeldt–Jakob disease, etc.).\n",
    "* *Susceptible-Infected-Resistant-Susceptible (SIRS)*: Probably self-explanatory if you understood the above."
   ]
  },
  {
   "cell_type": "markdown",
   "metadata": {},
   "source": [
    "The idea that drives the \"compartmenal\" modeling approach is that within a population you can assign each\n",
    "individual to a compartment based on their \"state\" (infected, susceptible, etc.). When you start the simulation,\n",
    "individuals then flow between compartments with specific flow rates.\n",
    "\n",
    "![img](https://upload.wikimedia.org/wikipedia/commons/9/93/SIR_Flow_Diagram.svg)\n",
    "\n",
    "This then allows us to describe the flow of individuals between compartments (and thus the spreading of the disease)\n",
    "using differential equations. For example in the simple SIR model shown above, the dynamics can be described with\n",
    "three differential equations (one for each compartment). They each tell us how fast the population in the corresponding\n",
    "compartment it changing:\n",
    "\n",
    "$$\\frac{dS}{dt} = -\\beta SI$$\n",
    "\n",
    "$$\\frac{dI}{dt} = \\beta SI - \\gamma I$$\n",
    "\n",
    "$$\\frac{dR}{dt} = \\gamma I$$"
   ]
  },
  {
   "cell_type": "markdown",
   "metadata": {},
   "source": [
    "So at a given point in time how many people are leaving the susceptible compartment and entering the Infected compartment?\n",
    "Well that's simply the the number of susceptible $S$ times the number of infected $I$ multipled with some disease-specific constant $\\beta$.\n",
    "\n",
    "And what's the growth in the number of infected? Easy! It's just the number of people coming in from the susceptible compartment $\\beta SI$ minus all the people leaving for the \"Recovered\" compartment $\\gamma I$, where gamma is some constant that describs how fast people recover.\n",
    "\n",
    "And the rate at which people enter the recovered state? If you understood the above you can explain this to yourself.\n",
    "\n",
    "**That's it!**. That's how all compartmental models work!"
   ]
  },
  {
   "cell_type": "markdown",
   "metadata": {},
   "source": [
    "> **Ex. 11.1.1**: But as I wrote above there are many different types of compartmental models. Write down the rate equations for the SIS model:\n",
    ">\n",
    ">![img](https://upload.wikimedia.org/wikipedia/commons/c/cb/SIS_compartment_model.svg)\n",
    ">\n",
    "> Follow the reasoning in the example for the SIR model above. Answer the following:\n",
    "* how many equations you need if there are two compartments.\n",
    "* What specifically does each equation describe?\n",
    "* What do $\\beta$ and $\\gamma$ intuitively describe? What can you say about a disease with a really big $\\gamma$? Or a really small $\\gamma$? How about big or small $\\beta$?"
   ]
  },
  {
   "cell_type": "markdown",
   "metadata": {},
   "source": [
    "#### Solution to Ex. 11.1.1\n",
    "\n",
    "In this question, we focus on the SIS (Susceptible-Infected-Susceptible) model - In the model we assume a population of N individuals. We have a group of people (considered large initially) of S(t) denoting the number of individuals being suscemtible at a given time t - the fraction of the population in this group we denote $\\frac{S(t)}{N}=s(t)$. Further, we have a group of infected individuals (initially very small) I(t) - the fraction is given by $\\frac{I(t)}{N}= i(t)$. We assume that s + i = 1.\n",
    "\n",
    "At each time unit we have a transformation of susceptible individuals being infected. We assume that in a time unit we have an transmission rate (probability being infected) of $\\beta$. As people at each time unit revover, then we introcude a recovery rate as well - we denote this as $\\gamma$.\n",
    "\n",
    "We can specify the model by the derivatives of the susceptible, the infected and the recovered by the following 2 differential equations:\n",
    "\n",
    "$\\frac{ds}{dt}= - \\beta s i + \\gamma i$\n",
    "- Here have that the change in susceptible individuals in a unit time decreases by the transmission rate ($\\beta$) times the probability of an infected to encounter an healty individual ($S/N=i$) times the number of infected indivduals (the fraction i). The first part is equal to the evolution in the simpler SI model. However, as we let individual become healty once again, we need to take into account the fraction of recovered individuals denoted by $\\gamma i$ - again, as gamma is the reovery rate per unit time.\n",
    "\n",
    "$\\frac{di}{dt}= \\beta si - \\gamma i$\n",
    "- Here we just consider the reverse of the above as we have a fracation of susceptible individuals being infected and a fraction of infected individuals recovering.\n",
    "\n",
    "However, we can apply that $s + i = 1$ such that $s = 1-i$:\n",
    "\n",
    "$\\frac{di}{dt}= i(\\beta i - \\beta - \\gamma)$\n",
    "\n",
    "The model has the solution of:\n",
    "\n",
    "$i(t) = (1- \\frac{\\gamma}{\\beta})(  \\frac{C}{C + e^{(\\beta-\\gamma)t}}$\n",
    "- Where $C =  \\frac{\\beta i_0}{\\beta - \\gamma - \\beta i_0}$\n",
    "\n",
    "Thus, if we have $\\beta > \\gamma)$ then spreading will not die out (as more people get infected than recovered at each time unit), and i(t) -> $(1-\\gamma/\\beta)$ (a constant level as we have with the flu - a fraction of the population has it all the time). However, if $\\beta < \\gamma)$ then the disease will die out as a larger fraction recovers, and we have i(t) -> 0."
   ]
  },
  {
   "cell_type": "markdown",
   "metadata": {},
   "source": [
    "> **Ex. 11.1.2** (optional): If you really understood the above, you should have no trouble writing down the equations for a SIRS\n",
    "model. Go ahead and try. Hint: You will need to introduce a new constant that describes the rate at which people move from R to S."
   ]
  },
  {
   "cell_type": "markdown",
   "metadata": {},
   "source": [
    "#### Solution to Ex. 11.1.2\n",
    "\n",
    "We specify a SIRS model with 3 equations, where we introduce a rate of which individuals go from the R group to being susceptible again:\n",
    "\n",
    "1) $\\frac{dS}{dt}= - \\frac{\\beta S I}{N} + \\psi R $\n",
    "\n",
    "2) $\\frac{dI}{dt}= \\frac{\\beta S I}{N} - \\gamma I$\n",
    "\n",
    "3) $\\frac{dR}{dt} = \\gamma I - \\psi R$\n",
    "\n",
    "Where we not have that $N = S + I + R$"
   ]
  },
  {
   "cell_type": "markdown",
   "metadata": {},
   "source": [
    "> **Ex. 11.1.3**: Professor of physics and mathematic and all around cool guy, Dirk Brockmann,\n",
    "makes interactive articles called *Explorables* that introduce ideas in Complexity science. Read/play with\n",
    "[his explorable](http://www.complexity-explorables.org/explorables/neighbors/) on targeted vaccination to mitigate epidemic spreading in the real world and answer the\n",
    "following questions:\n",
    "> 1. In the BA network, roughly what percentage of the population do you have to vaccinate with **strategy A** to only get around 10\n",
    "infected individuals? What about **startegy B** and **strategy C**?\n",
    "> 2. **strategy A** and **strategy C** are both entirely random, but one is much more effective than the other. Explain\n",
    "why. What clever idea is **strategy C** employing?\n",
    "> 3. Why is this effect larger in the BA network than in the ER network?"
   ]
  },
  {
   "cell_type": "markdown",
   "metadata": {},
   "source": [
    "#### Solution Ex. 11.1.3\n",
    "\n",
    "Overview of strategies:\n",
    "\n",
    "- Strategy A : A set of nodes is chosen at random and vaccinated\n",
    "- Strategy B : The most connected nodes are chosen and vaccinated\n",
    "- Strategy C : A set of nodes is chosen at random and then one of each node's neighbors is vaccinated\n",
    "\n",
    "1) Applying the BA random network with strategy A, then I found that with a vaccination coverage of ~74% yielded 10 infected individuals (thus, very high rate). For Strategy B this rate was 18% (much lower) and for Strategy C this was about 50 % on average in my draws. \n",
    "\n",
    "\n",
    "2) As noted in the previous question, then a much lower percentage of the population needs to be vaccinated. This can be explained by the fact that  your neighbors degree is higher than yours ON AVERAGE. In strategy A we randomly pick nodes with a probability of 1/N for picking a node. In strategy C, then the probability of picking a node is proportional to the target / neighbors degree. Thus, we are more likely to pick a node with a high degree on average. This means are the uniform distribution does not hold anymore.\n",
    "\n",
    "\n",
    "3) The effect is larger in the BA network due to the stronger viation in the node degrees.\n",
    "\n",
    "\n"
   ]
  },
  {
   "cell_type": "markdown",
   "metadata": {},
   "source": [
    "> **Ex. 11.1.4**: Choose one of these two explorables ([1](http://www.complexity-explorables.org/explorables/herd/) or [2](http://www.complexity-explorables.org/explorables/epidemonic/)) read/play with and understand it, and explain in your own words what phenomenon it communicates."
   ]
  },
  {
   "cell_type": "markdown",
   "metadata": {},
   "source": [
    "#### Solution to Ex. 11.1.4 \n",
    "\n",
    "I chose explorable 1. I believe it is a representation of the SIR model. If I choose the mixing population, then the homogenous mixing hypothesis applies - this assumes that each individual has the same likelihood of coming into contact with another node/individual. I can cahnge the \"Transmissibility\" (the $\\beta$ - the likelihood of transmitting the disease in a unit time) as well as the \"Vaccine Uptake\" (recovery rate) - I believe the model assumes that when people are recovered, then they cannot become infected again, and they become grey. Thus, this is an dynamic representation of the SIR model."
   ]
  },
  {
   "cell_type": "markdown",
   "metadata": {},
   "source": [
    "> **Ex. 11.1.5**: The simplest compartmental model is the *SI* model. Below I have implemented a simulation of such a model.\n",
    "You can see in line 5 that I initialize all nodes in the *S* compartment, but after running, all nodes are in the *I* compartment.\n",
    "Does this make sense to you?\n",
    "1. Comment the code abundantly, explaining what's happing at each step.\n",
    "2. Adapt the code and make a plot of the fraction of infected over time. You may have to restart it a couple of time to make sure patient 0 is someone connected to the rest of the population.\n",
    "3. Extend the code such after a variable number of timesteps `T_I` infected nodes become susceptible again. Set `T_I = 10` to begin with and plot the fraction of infected over time for 200 timesteps. Does the result make sense? Comment on what you see."
   ]
  },
  {
   "cell_type": "code",
   "execution_count": 2,
   "metadata": {
    "ExecuteTime": {
     "end_time": "2020-04-24T11:40:56.524830Z",
     "start_time": "2020-04-24T11:40:56.521674Z"
    }
   },
   "outputs": [],
   "source": [
    "G = nx.connected_caveman_graph(10, 5)\n",
    "#_ = nw.visualize(G) # Uncomment if you want to have a look at the network"
   ]
  },
  {
   "cell_type": "code",
   "execution_count": 3,
   "metadata": {
    "ExecuteTime": {
     "end_time": "2020-04-24T11:40:34.820432Z",
     "start_time": "2020-04-24T11:40:34.787128Z"
    }
   },
   "outputs": [
    {
     "data": {
      "image/png": "[encoded data removed]",
      "text/plain": [
       "<Figure size 432x288 with 1 Axes>"
      ]
     },
     "metadata": {
      "needs_background": "light"
     },
     "output_type": "display_data"
    }
   ],
   "source": [
    "import numpy as np\n",
    "\n",
    "p_I = 0.1\n",
    "n_iter = 200\n",
    "\n",
    "I = set()\n",
    "S = set(G.nodes())\n",
    "\n",
    "patient0 = np.random.choice(list(S))\n",
    "\n",
    "I.add(patient0)\n",
    "S.remove(patient0)\n",
    "\n",
    "\n",
    "I_dict = {}\n",
    "S_dict = {}\n",
    "for t in range(n_iter):\n",
    "    for infected_node in list(I):\n",
    "        neighbors = G.neighbors(infected_node)\n",
    "        infected_neighbors = set([n for n in neighbors if np.random.random() < p_I])\n",
    "        I |= infected_neighbors # note to myself:  bitwise-OR operation which is applied to sets\n",
    "        S -= infected_neighbors\n",
    "    I_dict[t] = len(I)\n",
    "    S_dict[t] = len(S)\n",
    "\n",
    "    \n",
    "import matplotlib.pyplot as plt\n",
    "\n",
    "\n",
    "# plot of the fractions - as we assume no individuals leave the system/model:\n",
    "i_list = np.divide(np.array(list(I_dict.values())), len(G.nodes()))\n",
    "s_list = np.divide(np.array(list(S_dict.values())), len(G.nodes()))\n",
    "\n",
    "plt.plot(list(I_dict.keys()),i_list, color='red')\n",
    "#plt.plot(list(S_dict.keys()),s_list, color='green')\n",
    "plt.show()"
   ]
  },
  {
   "cell_type": "markdown",
   "metadata": {},
   "source": [
    "#### Solution to Ex 11.1.5\n",
    "\n",
    "- First, we define a network of 10 cliques (completely connected comminities) - we specify each clique to include 5 nodes.\n",
    "\n",
    "- Then we initilize the modeling of a isease. We specify S (susceptible) to be a python set of the node numbers (50 in total).\n",
    "- Then we randomly select a node. This randomly selected node represents the first infected induvidual (patient0). We add him/her to the empty set and at the same time removes patient0 from the S (the susceptibles) as the SI model specifies the transformation from S to I.\n",
    "- Afterwards, we initialize a simulation of 200 iterations (time steps representing dt). At each unit time change, we consider the neighbors for each of the infected individuals. For each neighbor for each infected we randomly draw a a number from a [0,1] uniform distribution. If the draw is less than the transmission rate ($\\beta$ = 0.1), which it will be in 10% of the draws, then the neighbor is infected and we add the infected to the infected set and remove the individual from the Susceptible set. This is done iteratively for each timestep (0-200).\n",
    "\n",
    "Furhtermore, it does make sense that all indvidiuals go towards the infected group (from the susceptible) as there is no recovery. This could be a simulation of the spreading of HIV (with a relatively high transmission rate, however)\n"
   ]
  },
  {
   "cell_type": "code",
   "execution_count": 5,
   "metadata": {},
   "outputs": [
    {
     "data": {
      "image/png": "[encoded data removed]",
      "text/plain": [
       "<Figure size 432x288 with 1 Axes>"
      ]
     },
     "metadata": {
      "needs_background": "light"
     },
     "output_type": "display_data"
    }
   ],
   "source": [
    "# Adjusting the code such that after T_i = 10, then induviduals start to recover again.\n",
    "\n",
    "import numpy as np\n",
    "p_I = 0.1\n",
    "n_iter = 200\n",
    "keep_track = [set()] * n_iter # we create 200 sets - we'll story infected people in here for each time period to keep track of how long people have been ill\n",
    "T_I = 10\n",
    "\n",
    "I = set()\n",
    "S = set(G.nodes())\n",
    "\n",
    "patient0 = np.random.choice(list(S))\n",
    "\n",
    "I.add(patient0)\n",
    "keep_track[T_I - 1] = I #as we are indexing from 0, then at time step 10 (here T_I-1  = 9), we add the initial infected that only consist of patient0\n",
    "S.remove(patient0)\n",
    "\n",
    "\n",
    "I_dict = {}\n",
    "S_dict = {}\n",
    "for t in range(n_iter):\n",
    "    # We transfer healthy people from I to S from the keep_track list after 10 periods of illness\n",
    "    I = I - keep_track[t]\n",
    "    S = S | keep_track[t]\n",
    "    for infected_node in list(I):\n",
    "        neighbors = G.neighbors(infected_node)\n",
    "        infected_neighbors = set([n for n in neighbors if np.random.random() < p_I])\n",
    "        # The infected_neigbors will recover in 10 time steps, thus we add them 10 time steps from here to the keep_track list:\n",
    "        # However, as we cannot add sets out of bound - we apply a  \"try\" instead of adding 10 extra sets\n",
    "        # Further, we need to take into account that we are in a for loop\n",
    "        try:\n",
    "            keep_track[t + T_I] = keep_track[t + T_I] | (infected_neighbors - I)\n",
    "        except:\n",
    "            pass\n",
    "        I |= infected_neighbors # note to myself:  bitwise-OR operation which is applied to sets\n",
    "        S -= infected_neighbors    \n",
    "    I_dict[t] = len(I) \n",
    "    S_dict[t] = len(S) \n",
    "\n",
    "\n",
    "# plot of the fractions - as we assume no individuals leave the system/model:\n",
    "i_list = np.divide(np.array(list(I_dict.values())), len(G.nodes()))\n",
    "s_list = np.divide(np.array(list(S_dict.values())), len(G.nodes()))\n",
    "\n",
    "plt.plot(list(I_dict.keys()),i_list, color='red', label = 'i')\n",
    "plt.plot(list(S_dict.keys()),s_list, color='green', label = 's')\n",
    "plt.legend()\n",
    "plt.show()"
   ]
  },
  {
   "cell_type": "markdown",
   "metadata": {},
   "source": [
    "We notice that the process is slower and that it coverges towards a fraction lower than 100%"
   ]
  },
  {
   "cell_type": "markdown",
   "metadata": {},
   "source": [
    "> **Ex. 11.1.6**: Use what you have learned and implement an SIRS model.\n",
    "* Run it on the Facebook network from last week (so load that into a `networkx.Graph`).\n",
    "* Record the fraction of infected, susceptiple and recovered over time.\n",
    "* After the simulation has run, plot these quantities over time and comment on your results\n",
    "* Be proud of yourself for having solved a really interesting problem."
   ]
  },
  {
   "cell_type": "code",
   "execution_count": 6,
   "metadata": {},
   "outputs": [],
   "source": [
    "import collections\n",
    "import matplotlib.pyplot as plt\n",
    "import networkx as nx\n",
    "import pandas as pd\n",
    "import gzip\n",
    "\n",
    "# Importing facebook data once again\n",
    "f = gzip.open('facebook-wall.txt.gz') \n",
    "\n",
    "data = pd.read_csv(\n",
    "    f,\n",
    "    delimiter=\"\\t\",\n",
    "    header=None,\n",
    "    names=['user1', 'user2', 'timestamp']\n",
    ")\n",
    "f.close()"
   ]
  },
  {
   "cell_type": "code",
   "execution_count": 9,
   "metadata": {},
   "outputs": [
    {
     "data": {
      "image/png": "[encoded data removed]",
      "text/plain": [
       "<Figure size 432x288 with 1 Axes>"
      ]
     },
     "metadata": {
      "needs_background": "light"
     },
     "output_type": "display_data"
    }
   ],
   "source": [
    "# Simulating a SIRS model - SIRS model on facebook data\n",
    "\n",
    "# Creating the network from the facebook data\n",
    "data_sliced = data[:20000]\n",
    "t0 = data_sliced.timestamp.max() - 86400 * 365\n",
    "t1 = data_sliced.timestamp.max()    \n",
    "data = data.loc[data.timestamp.between(t0, t1)]\n",
    "G_w = nx.from_pandas_edgelist(data, 'user1', 'user2')\n",
    "\n",
    "\n",
    "p_S = 0.02 # prob of going from immune to susceptible\n",
    "p_R = 0.04 # prob of recover from being infected\n",
    "p_I = 0.3 # prob of being infected when susceptible\n",
    "n_iter = 200 # number of iterations\n",
    "\n",
    "I = set()\n",
    "R = set()\n",
    "S = set(G_w.nodes())\n",
    "\n",
    "# Cho0se a random individual\n",
    "patient0 = np.random.choice(list(S))\n",
    "\n",
    "# We infect patient0 and remove him/her from the susceptible group\n",
    "I.add(patient0)\n",
    "S.remove(patient0)\n",
    "\n",
    "# Define dictionaries for store individuals in the 3 groups, where I apply the time stamp t as key\n",
    "I_dict = {}\n",
    "S_dict = {}\n",
    "R_dict = {}\n",
    "\n",
    "for t in range(n_iter):\n",
    "    \n",
    "    # from S to I\n",
    "    from_S_to_I_t = set()\n",
    "    for infected_node in list(I): \n",
    "            neighbors = G_w.neighbors(infected_node)\n",
    "            infected_neighbors = set([n for n in neighbors if np.random.random() < p_I])\n",
    "            from_S_to_I_t |= infected_neighbors.intersection(S) # Only individuals that are susceptible that can be infected now      \n",
    "        \n",
    "    # from I to R:\n",
    "    from_I_to_R_t = set([n for n in I if np.random.random() < p_R])\n",
    "    \n",
    "    # from R to S:\n",
    "    from_R_to_S_t = set([n for n in R if np.random.random() < p_S])\n",
    "    \n",
    "    # Making the adustmets for compartments in timestep t\n",
    "    I |= from_S_to_I_t\n",
    "    S |= from_R_to_S_t\n",
    "    R |= from_I_to_R_t\n",
    "    I -= from_I_to_R_t\n",
    "    S -= from_S_to_I_t\n",
    "    R -= from_R_to_S_t\n",
    "\n",
    "    # Storing number of individuals in the compartments at time t\n",
    "    I_dict[t] = len(I)\n",
    "    S_dict[t] = len(S)\n",
    "    R_dict[t] = len(R)\n",
    "\n",
    "\n",
    "# plot of the fractions - as we assume no individuals leave the system/model:\n",
    "i_list = np.divide(np.array(list(I_dict.values())), len(G_w.nodes()))\n",
    "s_list = np.divide(np.array(list(S_dict.values())), len(G_w.nodes()))\n",
    "r_list = np.divide(np.array(list(R_dict.values())), len(G_w.nodes()))\n",
    "\n",
    "plt.plot(list(I_dict.keys()),i_list, color='red', label = \"i\")\n",
    "plt.plot(list(S_dict.keys()),s_list, color='green', label = 's')\n",
    "plt.plot(list(R_dict.keys()),r_list, color='orange', label = 'r')\n",
    "plt.legend()\n",
    "plt.show()"
   ]
  },
  {
   "cell_type": "markdown",
   "metadata": {},
   "source": [
    "This is very similar to the covid-19 case. We notice exponential growth at first, however, as individuals get immune (at least for some time) the growth in infections slows down and eventually falls. However, as the system is dynamic (individuals go from immune to susceptible once again), the infection rate does not die out. We notice that the system converges towards some long-term levels."
   ]
  },
  {
   "cell_type": "markdown",
   "metadata": {},
   "source": [
    "### Further learning"
   ]
  },
  {
   "cell_type": "markdown",
   "metadata": {},
   "source": [
    "Since the above exercises teaches you how to write down epidemic models (as systems of differential equations)\n",
    "and subsequently teaches you how to simulate a spreading process on a network to obtain data on infected/susceptible/recovered\n",
    "over time, you would think it natural that I also taught you how to fit these epidemic models to such data.\n",
    "This, however, is going a bit too far as this is not a course in computational epidemiology. But if you want to\n",
    "figure out how to do it, you literally just need to Google search for \"fit SIR model\"."
   ]
  },
  {
   "cell_type": "markdown",
   "metadata": {},
   "source": [
    "And finally, a note on how these models are used in the real world. The state-of-the-art in epidemiological modeling is something called \"meta popultion models\". They are essentially systems of compartmental models. One component in such a model may be a country, and it has its own little SI, SIR or SIRS model. Components are then coupled because there are people moving between them. The paper *The Hidden Geometry of Complex,\n",
    "Network-Driven Contagion Phenomena* by Dirk Brockmann and Dirk Helbing published in Science in 2013 ([link here](https://www.dropbox.com/s/hxprfyr51fwh907/brockmann13.pdf?dl=0)) sets up such a model for the world using airline traffic as a proxy for people flow between countries. It is a must read if you\n",
    "are curious about how the pros predict things like when a disease will arrive in a certain place or where a disease originated. I strongly recommend reading it and understanding the figures, it is a stroke of genius."
   ]
  },
  {
   "cell_type": "code",
   "execution_count": null,
   "metadata": {},
   "outputs": [],
   "source": []
  }
 ],
 "metadata": {
  "kernelspec": {
   "display_name": "Python 3",
   "language": "python",
   "name": "python3"
  },
  "language_info": {
   "codemirror_mode": {
    "name": "ipython",
    "version": 3
   },
   "file_extension": ".py",
   "mimetype": "text/x-python",
   "name": "python",
   "nbconvert_exporter": "python",
   "pygments_lexer": "ipython3",
   "version": "3.8.2"
  },
  "nav_menu": {},
  "toc": {
   "base_numbering": 1,
   "nav_menu": {},
   "number_sections": false,
   "sideBar": true,
   "skip_h1_title": false,
   "title_cell": "Table of Contents",
   "title_sidebar": "Contents",
   "toc_cell": false,
   "toc_position": {},
   "toc_section_display": "block",
   "toc_window_display": true
  },
  "varInspector": {
   "cols": {
    "lenName": 16,
    "lenType": 16,
    "lenVar": 40
   },
   "kernels_config": {
    "python": {
     "delete_cmd_postfix": "",
     "delete_cmd_prefix": "del ",
     "library": "var_list.py",
     "varRefreshCmd": "print(var_dic_list())"
    },
    "r": {
     "delete_cmd_postfix": ") ",
     "delete_cmd_prefix": "rm(",
     "library": "var_list.r",
     "varRefreshCmd": "cat(var_dic_list()) "
    }
   },
   "types_to_exclude": [
    "module",
    "function",
    "builtin_function_or_method",
    "instance",
    "_Feature"
   ],
   "window_display": false
  }
 },
 "nbformat": 4,
 "nbformat_minor": 4
}
