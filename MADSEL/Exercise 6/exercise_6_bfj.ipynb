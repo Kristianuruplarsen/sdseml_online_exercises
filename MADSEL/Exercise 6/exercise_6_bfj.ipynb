{
 "cells": [
  {
   "cell_type": "markdown",
   "metadata": {},
   "source": [
    "# Exercise 6 - linear ML for econometrics. \n",
    "\n",
    "In this exercise set we will work with linear ML methods that can give unbiased estimates when the number of covariates is large. We will once again set up simulated data to clearly see any issues with the methods we apply. The exercises follow the approach laid out in [Chernozhukov et al](https://arxiv.org/pdf/1501.03185.pdf)."
   ]
  },
  {
   "cell_type": "code",
   "execution_count": 18,
   "metadata": {},
   "outputs": [],
   "source": [
    "import numpy as np \n",
    "import pandas as pd \n",
    "import matplotlib.pyplot as plt \n",
    "import seaborn as sns \n",
    "\n",
    "from sklearn.preprocessing import PolynomialFeatures"
   ]
  },
  {
   "cell_type": "markdown",
   "metadata": {},
   "source": [
    "> The following code simulates two datasets, one to use with the auxilliary regression \n",
    ">$$ \\tag{aux}\n",
    "d_i = x_i'\\gamma_0 + z_i' \\delta_0 + u_i\n",
    "$$\n",
    ">and one to use in the main equation\n",
    ">$$ \\tag{main}\n",
    "y_i = \\alpha_0 d_i + x_i' \\beta_0 + \\nu_i\n",
    "$$\n",
    "Unlike in the paper, we include covariates in the main equation. We will handle them in a later question. In this setup $u_i$ and $\\nu_i$ are correlated, meaning the relation between $d_i$ and $y_i$ is not identified via OLS. Instead we will use $z_i$ to induce exogenous variation in $d_i$, which is unrelated to the error terms. This variation can be used to identify $\\alpha_0$.\n",
    ">\n",
    "> **Ex 6.1.1.**  Rewrite the below code to define a function `simulate(n, m, k, plot)`, where plot is a boolean indicating whether the density plot should be drawn or not. Your function should return all the matrices and vectors required in the regression equations, including parameters and errors."
   ]
  },
  {
   "cell_type": "code",
   "execution_count": 19,
   "metadata": {},
   "outputs": [],
   "source": [
    "def simulate(n=1000, m=1500, k=10, plot=False):\n",
    "    cov = 5    \n",
    "    errors = np.random.multivariate_normal(mean = [0,0], cov = [[cov, cov], [cov, cov]], size = n)\n",
    "    \n",
    "    if plot is True:\n",
    "        h = sns.jointplot(errors[:,0], errors[:,1], kind = 'kde')\n",
    "        h.set_axis_labels('$\\\\nu$', '$\\epsilon$', fontsize=16)\n",
    "\n",
    "    z = np.random.normal(size = (n,m))\n",
    "    x = np.random.normal(size = (n,k))\n",
    "\n",
    "    # Auxilliary equation\n",
    "    nu = errors[:,0]\n",
    "    Pi = np.array([5] + [x if np.random.uniform() > 0.9 else 0 for x in np.random.uniform(low = -2, high = 5, size = m - 1)])\n",
    "    gamma = np.array([5] + [x if np.random.uniform() > 0.9 else 0 for x in np.random.uniform(low = -2, high = 5, size = k - 1)])\n",
    "\n",
    "    d = z @ Pi + x @ gamma + nu\n",
    "\n",
    "    # Main equation\n",
    "    u = errors[:,1]\n",
    "    delta = np.array([5] + [x  if np.random.uniform() > 0.9 else 0 for x in np.random.uniform(low = -2, high = 5, size = k - 1)])\n",
    "    alpha = np.random.uniform(1,2)\n",
    "\n",
    "    y = alpha * d  + x @ delta + u\n",
    "\n",
    "    #Create dict for simulated values\n",
    "    \n",
    "    values = [y, alpha, d, x, delta, u, z, Pi, gamma, nu]\n",
    "    var_names = ['y', 'alpha', 'd', 'x', 'delta', 'u', 'z', 'Pi', 'gamma', 'nu']\n",
    "\n",
    "    return {\"values\":values, \"var_names\":var_names} \n",
    "\n",
    "simulated_res = simulate()\n",
    "\n"
   ]
  },
  {
   "cell_type": "code",
   "execution_count": 20,
   "metadata": {},
   "outputs": [],
   "source": [
    "# [Your solution here]"
   ]
  },
  {
   "cell_type": "markdown",
   "metadata": {},
   "source": [
    "> **Ex. 6.1.2:** Use your function to simulate a new dataset and regress the following OLS regression\n",
    ">$$\n",
    "y_i \\sim \\pi_0 + \\pi_1 d_i + \\gamma_i\n",
    "$$\n",
    "> where $\\gamma_i$ is a noise term. \n",
    ">\n",
    "> Repeat this procedure 1000 times in a for loop and store the true $\\alpha_0$ as well as the estimate $\\pi_1$ in two lists. Plot a histogram of the differences $\\alpha_0 - \\pi_1$. What does this tell you about the regression you just ran?"
   ]
  },
  {
   "cell_type": "code",
   "execution_count": 21,
   "metadata": {},
   "outputs": [],
   "source": [
    "from statsmodels.api import OLS\n",
    "from statsmodels.tools import add_constant"
   ]
  },
  {
   "cell_type": "code",
   "execution_count": 22,
   "metadata": {},
   "outputs": [
    {
     "data": {
      "text/plain": [
       "(array([  1.,   1.,   3.,  19., 110., 292., 363., 172.,  34.,   5.]),\n",
       " array([-0.07092622, -0.06433139, -0.05773656, -0.05114173, -0.04454691,\n",
       "        -0.03795208, -0.03135725, -0.02476243, -0.0181676 , -0.01157277,\n",
       "        -0.00497794]),\n",
       " <a list of 10 Patch objects>)"
      ]
     },
     "execution_count": 22,
     "metadata": {},
     "output_type": "execute_result"
    },
    {
     "data": {
      "image/png": "[encoded data removed]",
      "text/plain": [
       "<Figure size 432x288 with 1 Axes>"
      ]
     },
     "metadata": {
      "needs_background": "light"
     },
     "output_type": "display_data"
    }
   ],
   "source": [
    "# Ex 6.1.2 \n",
    "\n",
    "from statistics import mean\n",
    "\n",
    "# Loop n times\n",
    "n = 1000\n",
    "\n",
    "# Store estimates\n",
    "Pi0_hat = []\n",
    "Pi1_hat = []\n",
    "alpha_hat = []\n",
    "\n",
    "# For loop\n",
    "for x in range(n):\n",
    "\n",
    "    simulated_res = simulate()\n",
    "\n",
    "    alpha = simulated_res[\"values\"][1]\n",
    "    d = simulated_res[\"values\"][2]\n",
    "    y = simulated_res[\"values\"][0]\n",
    "    gamma = np.random.normal(0, 1, size = len(d))\n",
    "\n",
    "    X = np.array([d, gamma]).T #Needs to transpose X\n",
    "\n",
    "    # Our model needs an intercept so we add a column of 1s\n",
    "    X = add_constant(X)\n",
    "    \n",
    "    # OLS regression\n",
    "    model = OLS(y, X)\n",
    "    results = model.fit()\n",
    "    \n",
    "    # Append results n times \n",
    "    Pi0_hat.append(results.params[0])\n",
    "    Pi1_hat.append(results.params[1])\n",
    "    alpha_hat.append(alpha)\n",
    "    \n",
    "    # Difference between alpha_0 and Pi1\n",
    "    diff = [x1 - x2 for (x1, x2) in zip(alpha_hat, Pi1_hat)]\n",
    "    \n",
    "plt.hist(diff)\n",
    "\n"
   ]
  },
  {
   "cell_type": "markdown",
   "metadata": {},
   "source": [
    "> **Ex. 6.1.3:** Knowing the DGP an obvious solution would be to run an IV regression, instrumenting $d_i$ with $z_i$. Unfortunately there are $m=1500$ columns in $z_i$ and only $n=1000$ observations. Luckily, the way we have simulated our data only a small subset of the $z_i$'s actually influence $d_i$. The tricky part will be to pick out the right $z_i$'s.\n",
    ">\n",
    "> To begin with simulate a new dataset and count the number of non-zero element in $\\Pi$ to verify that indeed only very few $z$'s matter for $d$."
   ]
  },
  {
   "cell_type": "code",
   "execution_count": 23,
   "metadata": {},
   "outputs": [
    {
     "name": "stdout",
     "output_type": "stream",
     "text": [
      "149\n"
     ]
    }
   ],
   "source": [
    "# Ex 6.1.3 \n",
    "\n",
    "# Simulate a new dataset and store z \n",
    "simulated_res = simulate()\n",
    "Pi = simulated_res[\"values\"][7]\n",
    "\n",
    "non_zero_elements = np.count_nonzero(Pi)\n",
    "\n",
    "print(non_zero_elements)\n",
    "\n",
    "\n",
    "    \n"
   ]
  },
  {
   "cell_type": "markdown",
   "metadata": {},
   "source": [
    "> **Ex. 6.1.4:** The _ideal_ instrument for $d_i$ is exactly the $z_i$'s which have non-zero coefficients, multiplies by the corresponding true simulated parameters in $\\delta_0$. Having simulated the data ourselves, an easy way to compute this is to simply calculate\n",
    "> $$\n",
    "\\hat{d}^* = z \\cdot \\delta_0\n",
    "$$\n",
    "> where $\\cdot$ is the dot product, written as `@` in numpy. In reality we cannot get this ideal instrument, because it would require regressing $d_i$ on all 500 variables with only 100 observations.  \n",
    ">\n",
    "> In a for loop over 1000 iterations, simulate new data, compute the ideal instrument $\\hat{d_i}$ and regress the second stage regression $y_i \\sim \\pi_0 + \\pi_1\\hat{d_i}$. Store the true $\\alpha_0$ and the estimate $\\hat{\\pi}_1$ in two lists. Finally draw a histogram of the differences $\\alpha_0 - \\hat{\\pi}_1$. How does your histogram look this time, is this expected?"
   ]
  },
  {
   "cell_type": "code",
   "execution_count": 24,
   "metadata": {},
   "outputs": [
    {
     "data": {
      "text/plain": [
       "(array([ 11.,  33.,  87., 209., 278., 189., 123.,  47.,  18.,   5.]),\n",
       " array([-0.04413459, -0.03463588, -0.02513716, -0.01563845, -0.00613974,\n",
       "         0.00335897,  0.01285768,  0.0223564 ,  0.03185511,  0.04135382,\n",
       "         0.05085253]),\n",
       " <a list of 10 Patch objects>)"
      ]
     },
     "execution_count": 24,
     "metadata": {},
     "output_type": "execute_result"
    },
    {
     "data": {
      "image/png": "[encoded data removed]",
      "text/plain": [
       "<Figure size 432x288 with 1 Axes>"
      ]
     },
     "metadata": {
      "needs_background": "light"
     },
     "output_type": "display_data"
    }
   ],
   "source": [
    "# Ex 6.1.4 \n",
    "    \n",
    "# Store true parameters \n",
    "Pi1_hat = []\n",
    "alpha_hat = []\n",
    "\n",
    "# For loop\n",
    "n = 1000\n",
    "\n",
    "for x in range(n):\n",
    "    simulated_res = simulate()\n",
    "\n",
    "    alpha = simulated_res[\"values\"][1]\n",
    "    y = simulated_res[\"values\"][0]\n",
    "    Pi = simulated_res[\"values\"][7]\n",
    "    z = simulated_res[\"values\"][6]\n",
    "    d_hat = z @ Pi #mismatch between text and code\n",
    "\n",
    "    X = d_hat\n",
    "\n",
    "    # Our model needs an intercept so we add a column of 1s\n",
    "    X = add_constant(X)\n",
    "    \n",
    "    # OLS regression\n",
    "    model = OLS(y, X)\n",
    "    results = model.fit()\n",
    "    \n",
    "    # Append results n times \n",
    "    Pi1_hat.append(results.params[1])\n",
    "    alpha_hat.append(alpha)\n",
    "    \n",
    "    \n",
    "    # Difference between alpha_0 and Pi1\n",
    "    diff = [x1 - x2 for (x1, x2) in zip(alpha_hat, Pi1_hat)]\n",
    "    \n",
    "plt.hist(diff)\n",
    "\n",
    "# The difference is now located around zero as expected. \n",
    "\n",
    "\n"
   ]
  },
  {
   "cell_type": "markdown",
   "metadata": {},
   "source": [
    "> **Ex. 6.1.5:** The below class implements post-lasso. A two step procedure where first a lasso model is used to identify relevant parameters, and then OLS is used to estimate parameter values on the remaining variables. Study the code, and understand as well as possible what is going on. \n",
    ">\n",
    "> What is stored in `relevant_x`? In `relevant_x` all the relevant exogenous variables chosen by the lasso model are stored. The lasso model chooses all the coefs different from 0. \n",
    "\n",
    "> \n",
    "> Why is the `predict` method so complicated? The reason for using the if functions is to allow the user to be able to specify other columns and to secure dimensionality between columns.   "
   ]
  },
  {
   "cell_type": "code",
   "execution_count": 25,
   "metadata": {},
   "outputs": [],
   "source": [
    "from sklearn.linear_model import LassoCV, Lasso\n",
    "from sklearn.utils.testing import ignore_warnings\n",
    "from sklearn.exceptions import ConvergenceWarning"
   ]
  },
  {
   "cell_type": "code",
   "execution_count": 26,
   "metadata": {},
   "outputs": [],
   "source": [
    "class PostLasso:\n",
    "    def __init__(self, formula = None):\n",
    "        self.lasso_model = Lasso()\n",
    "        self.ols_model = None\n",
    "        self.relevant_x = None\n",
    "        self.subset_cols = None\n",
    "        self.coefs = None\n",
    "        self.formula = formula\n",
    "    \n",
    "    def __repr__(self):\n",
    "        return f'PostLasso({self.formula})'\n",
    "    \n",
    "    @ignore_warnings(category=ConvergenceWarning)\n",
    "    def fit(self, X, y, force_include_idx = None):\n",
    "        ''' Estimate a model using Post-Lasso\n",
    "        \n",
    "        X: X matrix (without intercept)\n",
    "        y: y vector\n",
    "        force_include_idx: column indexes that ALWAYS is\n",
    "            included in the OLS model, regardless of their\n",
    "            status in the lasso stage.\n",
    "        '''\n",
    "        self.lasso_model = self.lasso_model.fit(X,y)\n",
    "        self.coefs = np.insert(self.lasso_model.coef_, 0, self.lasso_model.intercept_)\n",
    "        self.subset_cols = np.where(self.coefs != 0)[0]\n",
    "        if force_include_idx is not None:\n",
    "            self.subset_cols = np.union1d(self.subset_cols, force_include_idx)\n",
    "        self.relevant_x = add_constant(X)[:,self.subset_cols]\n",
    "        self.ols_model = OLS(y, self.relevant_x).fit()\n",
    "        return self\n",
    "\n",
    "    def predict(self, X = None):\n",
    "        ''' Predict using a fitted post-lasso model.\n",
    "        '''\n",
    "        if X is None:\n",
    "            return self.ols_model.predict(self.relevant_x)\n",
    "        if X.shape == self.relevant_x.shape:\n",
    "            return self.ols_model.predict(X)\n",
    "        return self.ols_model.predict(X[:,self.subset_cols])"
   ]
  },
  {
   "cell_type": "markdown",
   "metadata": {},
   "source": [
    "> **Ex. 6.1.6:** In this problem we will try to run through the post-lasso steps required to obtain an estimate of $\\alpha_0$. Since we are doing this in python we will not be able to set the lasso hyperparameter optimally for this kind of post-selection usage. There is a R package, developed especially to handle inference after lasso-selection, which you should use in practise. \n",
    ">\n",
    "> For now, do the following steps 1000 times, storing the true $\\alpha_0$ and estimate $\\hat{\\alpha_0}$:\n",
    ">\n",
    "> * 0. Simulate a new dataset.\n",
    "> * 1. Run a post-lasso regression of d on x and z, $d_i \\sim x_i'\\gamma + z_i' \\delta$, forcing the inclusion of $x_i$ in the OLS stage.\n",
    "> * 2. Run the second stage regression $y_i \\sim \\hat{d}_i + x_i' \\beta$ to recover $\\hat{\\alpha_0}$.\n",
    ">\n",
    "> How does this histogram compare to the naive one? How does it compare to the ideal one?\n",
    ">\n",
    "> _Hint:_ We follow the description given on page 19 [here](https://cran.r-project.org/web/packages/hdm/vignettes/hdm.pdf)."
   ]
  },
  {
   "cell_type": "code",
   "execution_count": 27,
   "metadata": {},
   "outputs": [
    {
     "data": {
      "text/plain": [
       "(array([  1.,   1.,  25.,  97., 220., 271., 236., 116.,  26.,   7.]),\n",
       " array([-9.96574629e-03, -8.30138980e-03, -6.63703331e-03, -4.97267681e-03,\n",
       "        -3.30832032e-03, -1.64396383e-03,  2.03926657e-05,  1.68474916e-03,\n",
       "         3.34910565e-03,  5.01346215e-03,  6.67781864e-03]),\n",
       " <a list of 10 Patch objects>)"
      ]
     },
     "execution_count": 27,
     "metadata": {},
     "output_type": "execute_result"
    },
    {
     "data": {
      "image/png": "[encoded data removed]",
      "text/plain": [
       "<Figure size 432x288 with 1 Axes>"
      ]
     },
     "metadata": {
      "needs_background": "light"
     },
     "output_type": "display_data"
    }
   ],
   "source": [
    "# Ex 6.1.6\n",
    " \n",
    "# Store true parameters \n",
    "b_hat = []\n",
    "alpha_hat = []\n",
    "\n",
    "# For loop\n",
    "n = 1000\n",
    "\n",
    "# Simulate a new dataset 1000 times\n",
    "for _ in range(n):\n",
    "    simulated_res = simulate()\n",
    "    y = simulated_res[\"values\"][0]\n",
    "    alpha = simulated_res[\"values\"][1]\n",
    "    d = simulated_res[\"values\"][2]\n",
    "    Pi = simulated_res[\"values\"][7]\n",
    "    z = simulated_res[\"values\"][6]\n",
    "    delta = simulated_res[\"values\"][4]\n",
    "    gamma = simulated_res[\"values\"][8]\n",
    "    x = simulated_res[\"values\"][3]\n",
    "    \n",
    "    X = np.c_[x, z] #Needs to transpose X\n",
    "\n",
    "    #Lasso Model \n",
    "    model_lasso = PostLasso('di sim xi zi')\n",
    "    model_lasso.fit(X, d, force_include_idx = np.arange(x.shape[1]))\n",
    "    d_hat = model_lasso.predict()\n",
    "    \n",
    "    #Create X vector for the second stage\n",
    "    X_2sls = np.c_[x,d_hat]\n",
    "    \n",
    "    #Initialize 2SLS model \n",
    "    stage2 = OLS(y, X_2sls).fit()\n",
    "    \n",
    "    #Store estimates\n",
    "    b_hat.append(stage2.params[-1])\n",
    "    alpha_hat.append(alpha) \n",
    "    \n",
    "# Difference  \n",
    "\n",
    "diff = [x1 - x2 for (x1, x2) in zip(alpha_hat, b_hat)]\n",
    "    \n",
    "plt.hist(diff)\n",
    "    \n",
    "# We find an improvement compared to the naive model even though some bias still evident (the estimator is too large). \n"
   ]
  },
  {
   "cell_type": "code",
   "execution_count": null,
   "metadata": {},
   "outputs": [],
   "source": []
  }
 ],
 "metadata": {
  "kernelspec": {
   "display_name": "Python 3",
   "language": "python",
   "name": "python3"
  },
  "language_info": {
   "codemirror_mode": {
    "name": "ipython",
    "version": 3
   },
   "file_extension": ".py",
   "mimetype": "text/x-python",
   "name": "python",
   "nbconvert_exporter": "python",
   "pygments_lexer": "ipython3",
   "version": "3.7.7"
  }
 },
 "nbformat": 4,
 "nbformat_minor": 4
}
