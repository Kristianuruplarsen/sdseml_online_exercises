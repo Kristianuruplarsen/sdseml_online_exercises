{
 "cells": [
  {
   "cell_type": "markdown",
   "metadata": {},
   "source": [
    "Q1\n",
    "\n",
    "\n",
    "$a^2 + b^2 = c^2$ Multiplying with q: $(qa)^2 + (qb)^2 = (qc)^2$ Reducing LHS: $q^2*(a^2+b^2) = (qc)^2$ Dividing with $q^2$: $a^2 + b^2 = c^2$\n",
    "\n"
   ]
  },
  {
   "cell_type": "code",
   "execution_count": 1,
   "metadata": {},
   "outputs": [
    {
     "data": {
      "text/plain": [
       "True"
      ]
     },
     "execution_count": 1,
     "metadata": {},
     "output_type": "execute_result"
    }
   ],
   "source": [
    "t =(3,4,5)\n",
    "def ptriples(tup):\n",
    "    return tup[2]**2 == tup[0]**2 + tup[1]**2\n",
    "ptriples(t)"
   ]
  },
  {
   "cell_type": "code",
   "execution_count": 2,
   "metadata": {},
   "outputs": [],
   "source": [
    "import numpy as np\n",
    "import matplotlib.pyplot as plt"
   ]
  },
  {
   "cell_type": "markdown",
   "metadata": {},
   "source": [
    "Q2\n",
    "\n",
    "\n",
    "\n",
    "Plot in (a,b) space all Pythagorean triples where a,b < 10 000"
   ]
  },
  {
   "cell_type": "code",
   "execution_count": 3,
   "metadata": {},
   "outputs": [
    {
     "data": {
      "text/plain": [
       "Text(0.5, 0, 'a')"
      ]
     },
     "execution_count": 3,
     "metadata": {},
     "output_type": "execute_result"
    },
    {
     "data": {
      "image/png": "[encoded data removed]",
      "text/plain": [
       "<Figure size 432x288 with 1 Axes>"
      ]
     },
     "metadata": {
      "needs_background": "light"
     },
     "output_type": "display_data"
    }
   ],
   "source": [
    "a_s,b_s = [],[] #initiating empty lists\n",
    "for a in range(1,200):  \n",
    "    for b in range (1,200):\n",
    "        for c in range (1,200): #for loop through possible pythagorean triples combinations\n",
    "            if ptriples((a,b,c)) == True:\n",
    "                a_s.append(a)\n",
    "                b_s.append(b) #Appending a and b, if they're part of a pythagorean triple\n",
    "\n",
    "#Plotting and formatting\n",
    "plt.scatter(a_s,b_s, s=10)\n",
    "plt.title(\"Pythogerean triples\")\n",
    "plt.ylabel(\"b\")\n",
    "plt.xlabel(\"a\")"
   ]
  },
  {
   "cell_type": "code",
   "execution_count": null,
   "metadata": {},
   "outputs": [],
   "source": []
  }
 ],
 "metadata": {
  "kernelspec": {
   "display_name": "Python 3",
   "language": "python",
   "name": "python3"
  },
  "language_info": {
   "codemirror_mode": {
    "name": "ipython",
    "version": 3
   },
   "file_extension": ".py",
   "mimetype": "text/x-python",
   "name": "python",
   "nbconvert_exporter": "python",
   "pygments_lexer": "ipython3",
   "version": "3.7.4"
  }
 },
 "nbformat": 4,
 "nbformat_minor": 2
}
