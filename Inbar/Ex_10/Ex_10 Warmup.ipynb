{
 "cells": [
  {
   "cell_type": "markdown",
   "metadata": {},
   "source": [
    "A Pythagorian triple is defined as: a tuple $(a,b,c) \\in \\ N^3$ such that: $a^2 + b^2 = c^2$.\n",
    "\n",
    "We shall assume that $(a,b,c)$ are a Pythagorian triple. Thus, $a^2 + b^2 = c^2$ holds.\n",
    "<br> now, let us multiply by $q^2$ on both sides and get: $q^2 *(a^2 + b^2) = q^2 * c^2 $\n",
    "<br> $\\Rightarrow q^2a^2 + q^2b^2 = q^2c^2$\n",
    "<br> $\\Rightarrow (qa)^2 + (qb)^2 = (qc)^2$\n",
    "<br> $\\Rightarrow$ we showed that $(qa, qb, qc)$ is also a Pythagorian triangle."
   ]
  },
  {
   "cell_type": "code",
   "execution_count": 33,
   "metadata": {},
   "outputs": [
    {
     "data": {
      "text/plain": [
       "<matplotlib.axes._subplots.AxesSubplot at 0xa268dd6d8>"
      ]
     },
     "execution_count": 33,
     "metadata": {},
     "output_type": "execute_result"
    },
    {
     "data": {
      "image/png": "[encoded data removed]",
      "text/plain": [
       "<Figure size 432x288 with 1 Axes>"
      ]
     },
     "metadata": {
      "needs_background": "light"
     },
     "output_type": "display_data"
    }
   ],
   "source": [
    "from shapely.geometry import Polygon\n",
    "import math\n",
    "import geopandas as gpd\n",
    "import numpy as np\n",
    "\n",
    "data = []\n",
    "\n",
    "for i in range(1,10001):\n",
    "    for j in range(1,10001):\n",
    "        if i != j:\n",
    "            c = math.sqrt( i ** 2 + j  ** 2)\n",
    "            if c % 1 == 0: data.append(Polygon([(i,0),(j,0),(0,int(c))]))\n",
    "                \n",
    "gpd.GeoDataFrame(data, columns = ['geometry']).plot(cmap = 'OrRd')\n",
    "# I am not entirely sure that was the intention with 'plot' but I did the best as far as my understanding"
   ]
  }
 ],
 "metadata": {
  "kernelspec": {
   "display_name": "Python 3",
   "language": "python",
   "name": "python3"
  },
  "language_info": {
   "codemirror_mode": {
    "name": "ipython",
    "version": 3
   },
   "file_extension": ".py",
   "mimetype": "text/x-python",
   "name": "python",
   "nbconvert_exporter": "python",
   "pygments_lexer": "ipython3",
   "version": "3.7.3"
  }
 },
 "nbformat": 4,
 "nbformat_minor": 2
}
