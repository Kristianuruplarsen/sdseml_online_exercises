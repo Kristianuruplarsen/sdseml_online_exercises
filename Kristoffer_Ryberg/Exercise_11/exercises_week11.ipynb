{
 "cells": [
  {
   "cell_type": "markdown",
   "metadata": {},
   "source": [
    "# Week 11: Networks 3 (epidemiology)\n"
   ]
  },
  {
   "cell_type": "markdown",
   "metadata": {
    "ExecuteTime": {
     "end_time": "2017-08-23T15:30:03.634114Z",
     "start_time": "2017-08-23T15:30:03.629294Z"
    }
   },
   "source": [
    "While researchers have been modeling the spread of diseases and information for many years, the COVID-19 pandemic playing out right now puts a new emphasis on the importance of being able to model (and thus predict) how diseases propagate through populations. So how do you most effectively model the spread of a disease? There are many^ ways, and all of them (at least the useful ones) involves networks. In this notebook you will get your hands on a couple different modeling approaches. Specifically:\n",
    "\n",
    "* Spreading processes on static networks\n",
    "* Spreading processes on temporal networks\n",
    "* Metapopulation models"
   ]
  },
  {
   "cell_type": "markdown",
   "metadata": {},
   "source": [
    "**Questions**: Outside of class, use [issue on GitHub](https://github.com/abjer/tsds/issues) for asking questions."
   ]
  },
  {
   "cell_type": "markdown",
   "metadata": {},
   "source": [
    "## Imports"
   ]
  },
  {
   "cell_type": "code",
   "execution_count": 2,
   "metadata": {
    "ExecuteTime": {
     "end_time": "2020-04-24T11:47:07.339115Z",
     "start_time": "2020-04-24T11:47:06.861645Z"
    }
   },
   "outputs": [],
   "source": [
    "%matplotlib inline\n",
    "import matplotlib.pylab as plt\n",
    "import networkx as nx\n",
    "import netwulf as nw"
   ]
  },
  {
   "cell_type": "markdown",
   "metadata": {},
   "source": [
    "## Exercises"
   ]
  },
  {
   "cell_type": "markdown",
   "metadata": {},
   "source": [
    "In a *contact network* nodes are people and links represent interactions that can happen between people. You can use such a network as a *substrate* for simulating the spreading of \"something\". Spreading of what? That's up to you. It can be a disease, a behavior, a piece of information, anything you can imagine people may pass along. There's a whole subfield of Network Science which deals with this, but the fundamental idea is actually quite simple:\n",
    "\n",
    "> Nodes that are connected can transmit this \"something\" with a probability. Each timestep of the simulation is an opportunity for the \"something\" to spread.\n",
    "\n",
    "You can then make this more nuanced by adding extra criteria for transmission. For disease modeling these can e.g. be that nodes can only be infected after multiple exposures or if multiple neighbors are infected, that they can be cured and become resistant/susceptible with some probability, that they may die and exit the simulation creating a void in the network, that becoming infected makes them change their links, that godzilla walks in and eats everyone—the possibilities are endless and you decide which rules exist in the simulation universe."
   ]
  },
  {
   "cell_type": "markdown",
   "metadata": {},
   "source": [
    "Generally speaking, there are four major classes of so-called \"compartmental models\" in network epidemiology:\n",
    "* *Susceptible-Infected (SI)*: Nodes are susceptible at start, and once they are infected they never recover. This models spreading of unforgetable information, or diseases that people get and pass on, and never recover from (like HIV, herpes, etc.).\n",
    "* *Susceptible-Infected-Susceptible (SIS)*: Nodes are susceptible, then get infected and stay infected for some time, then get susceptible again, an the cycle continues. This could model things like the flu which comes and goes and you get and recover from over and over again.\n",
    "* *Susceptible-Infected-Resistant (SIR)*: Nodes become infected and after some time they gain resistance so that they can niether become infected nor spread disease/information further. Once they are resistant they are essentially \"removed\" from the network, so this type of model works for diseases where people recover and gain resistance as well as ones that kill people, as niether type of person can transmit (measles, chickenpox but also rabies, Creutzfeldt–Jakob disease, etc.).\n",
    "* *Susceptible-Infected-Resistant-Susceptible (SIRS)*: Probably self-explanatory if you understood the above."
   ]
  },
  {
   "cell_type": "markdown",
   "metadata": {},
   "source": [
    "The idea that drives the \"compartmenal\" modeling approach is that within a population you can assign each\n",
    "individual to a compartment based on their \"state\" (infected, susceptible, etc.). When you start the simulation,\n",
    "individuals then flow between compartments with specific flow rates.\n",
    "\n",
    "![img](https://upload.wikimedia.org/wikipedia/commons/9/93/SIR_Flow_Diagram.svg)\n",
    "\n",
    "This then allows us to describe the flow of individuals between compartments (and thus the spreading of the disease)\n",
    "using differential equations. For example in the simple SIR model shown above, the dynamics can be described with\n",
    "three differential equations (one for each compartment). They each tell us how fast the population in the corresponding\n",
    "compartment it changing:\n",
    "\n",
    "$$\\frac{dS}{dt} = -\\beta SI$$\n",
    "\n",
    "$$\\frac{dI}{dt} = \\beta SI - \\gamma I$$\n",
    "\n",
    "$$\\frac{dR}{dt} = \\gamma I$$"
   ]
  },
  {
   "cell_type": "markdown",
   "metadata": {},
   "source": [
    "So at a given point in time how many people are leaving the susceptible compartment and entering the Infected compartment?\n",
    "Well that's simply the the number of susceptible $S$ times the number of infected $I$ multipled with some disease-specific constant $\\beta$.\n",
    "\n",
    "And what's the growth in the number of infected? Easy! It's just the number of people coming in from the susceptible compartment $\\beta SI$ minus all the people leaving for the \"Recovered\" compartment $\\gamma I$, where gamma is some constant that describs how fast people recover.\n",
    "\n",
    "And the rate at which people enter the recovered state? If you understood the above you can explain this to yourself.\n",
    "\n",
    "**That's it!**. That's how all compartmental models work!"
   ]
  },
  {
   "cell_type": "markdown",
   "metadata": {},
   "source": [
    "> **Ex. 11.1.1**: But as I wrote above there are many different types of compartmental models. Write down the rate equations for the SIS model:\n",
    ">\n",
    ">![img](https://upload.wikimedia.org/wikipedia/commons/c/cb/SIS_compartment_model.svg)\n",
    ">\n",
    "> Follow the reasoning in the example for the SIR model above. Answer the following:\n",
    "* how many equations you need if there are two compartments.\n",
    "* What specifically does each equation describe?\n",
    "* What do $\\beta$ and $\\gamma$ intuitively describe? What can you say about a disease with a really big $\\gamma$? Or a really small $\\gamma$? How about big or small $\\beta$?"
   ]
  },
  {
   "cell_type": "markdown",
   "metadata": {},
   "source": [
    "__ANSWER:__\n",
    "1. We'll need two equations to describe the flow in the SIS-model:\n",
    "    $$\\frac{dS}{dt} = -\\beta SI + \\gamma I$$\n",
    "    \n",
    "    $$\\frac{dI}{dt} = \\beta SI - \\gamma I$$\n",
    "2. The first equation tells us that the the growth in the number of Susceptibles is the number of infected people that recovers and become suceptible again ($\\gamma I$) minus the number of Susceptibles that become infected $-\\beta SI$. For the second equation (the infectious compartment), the flow is reversed.\n",
    "3. The $\\beta$ parameter describes the chance that a healthy person gets infected by the disease. A big $\\beta$ means that a disease will spread very quickly, while the reverse is true for a small $\\beta$. The parameter $\\gamma$ describes how long the an infected individual is infectious."
   ]
  },
  {
   "cell_type": "markdown",
   "metadata": {},
   "source": [
    "> **Ex. 11.1.2** (optional): If you really understood the above, you should have no trouble writing down the equations for a SIRS\n",
    "model. Go ahead and try. Hint: You will need to introduce a new constant that describes the rate at which people move from R to S."
   ]
  },
  {
   "cell_type": "markdown",
   "metadata": {},
   "source": [
    "> **Ex. 11.1.3**: Professor of physics and mathematic and all around cool guy, Dirk Brockmann,\n",
    "makes interactive articles called *Explorables* that introduce ideas in Complexity science. Read/play with\n",
    "[his explorable](http://www.complexity-explorables.org/explorables/neighbors/) on targeted vaccination to mitigate epidemic spreading in the real world and answer the\n",
    "following questions:\n",
    "> 1. In the BA network, roughly what percentage of the population do you have to vaccinate with **strategy A** to only get around 10\n",
    "infected individuals? What about **startegy B** and **strategy C**?\n",
    "> 2. **strategy A** and **strategy C** are both entirely random, but one is much more effective than the other. Explain\n",
    "why. What clever idea is **strategy C** employing?\n",
    "> 3. Why is this effect larger in the BA network than in the ER network?"
   ]
  },
  {
   "cell_type": "markdown",
   "metadata": {},
   "source": [
    "1. Using __strategy A__ you would have to vaccinate around just about 75-80% to get around 10 infected individuals. Using __strategy B__ where the most connected nodes gets vaccinated, you would have to vaccinate just about 15% to get the same results! With __strategy C__ it seems that vaccinating 50% of the population does the trick.\n",
    "2. __strategy C__ takes advantage of the \"friendship paradox\", which states that most people have fewer friends than their friends have on average. The intuition is that people with more friends, are more likely to be a part of ones own friend group. Or similiarily, that you are less likely to be friends with a person with very few friends. This makes __strategy C__ more effective than __strategy A__. The reason for this is the same as the reason behind __strategy B__ being so much more effective than the other strategies. Removing the most connected nodes, the network loses its ability to transfer processes through few highly connected links, making the spread much less effective. Due to the \"friendship paradox\", __strategy C__ targets nodes that are more connected than the average node, making it more effective than __strategy A__ where the nodes are chosen randomly.\n",
    "3. In the BA network, the variation in node degrees are much stronger than in the ER network. Thus, more \"hubs\" are present in the BA network, making the effect from __strategy B__ and __strategy C__ larger."
   ]
  },
  {
   "cell_type": "markdown",
   "metadata": {},
   "source": [
    "> **Ex. 11.1.4**: Choose one of these two explorables ([1](http://www.complexity-explorables.org/explorables/herd/) or [2](http://www.complexity-explorables.org/explorables/epidemonic/)) read/play with and understand it, and explain in your own words what phenomenon it communicates.\n",
    "\n",
    "I chose explorable [1] that visualize the phenomenon of herd immunity. In the beginning of an outbreak, no individual is immune, and the disease can spread freely (and rapidly). In the explorable, an unvaccinated infected individual can recover, and become susceptible again. Thus, if too few people are vaccinated, and the disease has a high transmissibility, the disease is never erradicated. However, if enough people are vaccinated, and thus not able to get or transfer the disease, over time the disease will be eradicated, as the disease has fewer susceptible individuals to transfer to. Thus, the population gets \"herd immunity\", and the unvaccinated individuals are protected by the vaccinated individuals."
   ]
  },
  {
   "cell_type": "markdown",
   "metadata": {},
   "source": [
    "> **Ex. 11.1.5**: The simplest compartmental model is the *SI* model. Below I have implemented a simulation of such a model.\n",
    "You can see in line 5 that I initialize all nodes in the *S* compartment, but after running, all nodes are in the *I* compartment.\n",
    "Does this make sense to you?\n",
    "1. Comment the code abundantly, explaining what's happing at each step.\n",
    "2. Adapt the code and make a plot of the fraction of infected over time. You may have to restart it a couple of time to make sure patient 0 is someone connected to the rest of the population.\n",
    "3. Extend the code such after a variable number of timesteps `T_I` infected nodes become susceptible again. Set `T_I = 10` to begin with and plot the fraction of infected over time for 200 timesteps. Does the result make sense? Comment on what you see."
   ]
  },
  {
   "cell_type": "code",
   "execution_count": 6,
   "metadata": {},
   "outputs": [],
   "source": [
    "import numpy as np\n",
    "import pandas as pd"
   ]
  },
  {
   "cell_type": "code",
   "execution_count": 4,
   "metadata": {
    "ExecuteTime": {
     "end_time": "2020-04-24T11:40:56.524830Z",
     "start_time": "2020-04-24T11:40:56.521674Z"
    }
   },
   "outputs": [],
   "source": [
    "G = nx.connected_caveman_graph(10, 5)\n",
    "_ = nw.visualize(G) # Uncomment if you want to have a look at the network"
   ]
  },
  {
   "cell_type": "code",
   "execution_count": 22,
   "metadata": {
    "ExecuteTime": {
     "end_time": "2020-04-24T11:40:34.820432Z",
     "start_time": "2020-04-24T11:40:34.787128Z"
    }
   },
   "outputs": [
    {
     "data": {
      "text/plain": [
       "Text(0, 0.5, 'Infected Nodes')"
      ]
     },
     "execution_count": 22,
     "metadata": {},
     "output_type": "execute_result"
    },
    {
     "data": {
      "image/png": "[encoded data removed]",
      "text/plain": [
       "<Figure size 864x432 with 2 Axes>"
      ]
     },
     "metadata": {
      "needs_background": "light"
     },
     "output_type": "display_data"
    }
   ],
   "source": [
    "#SI simulation\n",
    "\n",
    "p_I = 0.1 # The probability of transferring the disease to a neighbor node.\n",
    "n_iter = 200 # Number of periods in the simulation\n",
    "\n",
    "I = set() # The infected individuals (initially none)\n",
    "S = set(G.nodes()) # The set of susceptible individuals. Initially, all nodes are susceptible.\n",
    "I_n = [len(I)] \n",
    "S_n = [len(S)]\n",
    "\n",
    "patient0 = np.random.choice(list(S)) # Patient Zero! The guy who starts the whole mess.\n",
    "\n",
    "I.add(patient0) # Patient Zero is added to the list of infected individuals.\n",
    "S.remove(patient0) # Patient Zero is removed from the Susceptible list.\n",
    "\n",
    "for t in range(n_iter): # The number of time periods in the simulation\n",
    "    for infected_node in list(I): # We loop over all the infected individuals who can transfer the disease\n",
    "        neighbors = G.neighbors(infected_node) # The neighbors of the infected individual\n",
    "        infected_neighbors = set([n for n in neighbors if np.random.random() < p_I]) # Infect all neighbors if the random draw is below the disease probability threshold.\n",
    "        I |= infected_neighbors # Add newly infected neighbors to infected individuals\n",
    "        S -= infected_neighbors # Remove infected neighbors from the susceptible list\n",
    "        \n",
    "    I_n.append(len(I))\n",
    "    S_n.append(len(S))\n",
    "        \n",
    "fig, ax = plt.subplots(1, 2, figsize=(12, 6))\n",
    "ax[0].set_title(\"SI simulation\")      \n",
    "ax[0].plot(I_n)\n",
    "ax[0].set_xlabel(\"Time periods\")\n",
    "ax[0].set_ylabel(\"Infected Nodes\")\n",
    "\n",
    "#All nodes in the network becomes infected as time passes - this is as expected, as there is no recovery.\n",
    "\n",
    "#SIS simulation\n",
    "\n",
    "p_I = 0.1 # The probability of transferring the disease to a neighbor node.\n",
    "T_I = 10 #number of timesteps before nodes become susceptible again.\n",
    "n_iter = 200 # Number of periods in the simulation\n",
    "\n",
    "I = set() # The infected individuals (initially none)\n",
    "S = set(G.nodes()) # The set of susceptible individuals. Initially, all nodes are susceptible.\n",
    "I_n = [len(I)] \n",
    "S_n = [len(S)]\n",
    "\n",
    "patient0 = np.random.choice(list(S)) # Patient Zero! The guy who starts the whole mess.\n",
    "\n",
    "# Dictionary to keep track of days the individuals have been infected.\n",
    "keys   = list(G.nodes())\n",
    "values = np.zeros(len(G.nodes()))\n",
    "days_infected = dict(zip(keys,values))\n",
    "\n",
    "days_infected[patient0] = 1 #The infected individual have been effected for 1 day.\n",
    "\n",
    "I.add(patient0) # Patient Zero is added to the list of infected individuals.\n",
    "S.remove(patient0) # Patient Zero is removed from the Susceptible list.\n",
    "\n",
    "\n",
    "for t in range(n_iter): # The number of time periods in the simulation\n",
    "    for infected_node in list(I): # We loop over all the infected individuals who can transfer the disease\n",
    "        neighbors = G.neighbors(infected_node) # The neighbors of the infected individual\n",
    "        infected_neighbors = set([n for n in neighbors if np.random.random() < p_I]) # Infect all neighbors if the random draw is below the disease probability threshold.\n",
    "        I |= infected_neighbors # Add newly infected neighbors to infected individuals\n",
    "        S -= infected_neighbors # Remove infected neighbors from the susceptible list\n",
    "        #Check to see if an individual should go from infected to susceptible:\n",
    "        if days_infected[infected_node] < T_I:\n",
    "            days_infected[infected_node] = days_infected[infected_node] + 1\n",
    "        else:\n",
    "            days_infected[infected_node] = 0\n",
    "            I.remove(infected_node)\n",
    "            S.add(infected_node)\n",
    "        \n",
    "        \n",
    "    I_n.append(len(I))\n",
    "    S_n.append(len(S))\n",
    "        \n",
    "ax[1].set_title(\"SIS simulation\")        \n",
    "ax[1].plot(I_n)\n",
    "ax[1].set_xlabel(\"Time periods\")\n",
    "ax[1].set_ylabel(\"Infected Nodes\")\n",
    "\n",
    "#We see that the trend is upward going in the beginning, and stabilize around 35-40, as people continuosly go back and forth from infected and susceptible "
   ]
  },
  {
   "cell_type": "markdown",
   "metadata": {},
   "source": [
    "> **Ex. 11.1.6**: Use what you have learned and implement an SIRS model.\n",
    "* Run it on the Facebook network from last week (so load that into a `networkx.Graph`).\n",
    "* Record the fraction of infected, susceptiple and recovered over time.\n",
    "* After the simulation has run, plot these quantities over time and comment on your results\n",
    "* Be proud of yourself for having solved a really interesting problem."
   ]
  },
  {
   "cell_type": "code",
   "execution_count": 76,
   "metadata": {},
   "outputs": [],
   "source": [
    "#Loading data:\n",
    "data = pd.read_csv(\n",
    "    \"facebook-wall.txt.gz\",\n",
    "    delimiter=\"\\t\",\n",
    "    header=None,\n",
    "    names=['user1', 'user2', 'timestamp']\n",
    ")\n",
    "\n",
    "def get_slice(data, t0, t1):\n",
    "    # Subset of the pandas dataframe\n",
    "    data_t = data.loc[data.timestamp.between(t0, t1)]\n",
    "\n",
    "    # Count the number of times each link occurs and store that in a new 'weight' column\n",
    "    data_t = data_t.groupby(['user1', 'user2']).size().reset_index(name='weight')\n",
    "\n",
    "    # Create a `nx.DiGraph` from this dataframe\n",
    "    G_t = nx.from_pandas_edgelist(data_t, 'user1', 'user2', 'weight', create_using=nx.DiGraph)\n",
    "    return G_t"
   ]
  },
  {
   "cell_type": "code",
   "execution_count": 77,
   "metadata": {},
   "outputs": [],
   "source": [
    "def SIRS_simulation(G, p_I = 0.4, n_iter=200, T_I=10):\n",
    "\n",
    "    I = set() # The infected individuals (initially none)\n",
    "    S = set(G.nodes()) # The set of susceptible individuals. Initially, all nodes are susceptible.\n",
    "    R = set() #Recovered individuals\n",
    "    \n",
    "    I_n = [len(I)] \n",
    "    S_n = [len(S)]\n",
    "    R_n = [len(R)]\n",
    "\n",
    "    patient0 = np.random.choice(list(S)) # Patient Zero! The guy who starts the whole mess.\n",
    "\n",
    "    # Dictionary to keep track of days the individuals have been infected.\n",
    "    keys   = list(G.nodes())\n",
    "    values = np.zeros(len(G.nodes()))\n",
    "    days_infected = dict(zip(keys,values))\n",
    "\n",
    "    days_infected[patient0] = 1 #The infected individual have been effected for 1 day.\n",
    "\n",
    "    I.add(patient0) # Patient Zero is added to the list of infected individuals.\n",
    "    S.remove(patient0) # Patient Zero is removed from the Susceptible list.\n",
    "\n",
    "\n",
    "    for t in range(n_iter): # The number of time periods in the simulation\n",
    "        for infected_node in list(I): # We loop over all the infected individuals who can transfer the disease\n",
    "            neighbors = G.neighbors(infected_node) # The neighbors of the infected individual\n",
    "            infected_neighbors = set([n for n in neighbors if np.random.random() < p_I]) # Infect all neighbors if the random draw is below the disease probability threshold.\n",
    "            I |= infected_neighbors # Add newly infected neighbors to infected individuals\n",
    "            S -= infected_neighbors # Remove infected neighbors from the susceptible list\n",
    "            #Check to see if an individual should go from infected to susceptible:\n",
    "            if days_infected[infected_node] < T_I:\n",
    "                days_infected[infected_node] = days_infected[infected_node] + 1\n",
    "            else:\n",
    "                days_infected[infected_node] = 0\n",
    "                I.remove(infected_node)\n",
    "                R.add(infected_node)\n",
    "\n",
    "\n",
    "        I_n.append(len(I))\n",
    "        S_n.append(len(S))\n",
    "        R_n.append(len(R))\n",
    "        \n",
    "    \n",
    "\n",
    "    df = pd.DataFrame({'time':list(range(n_iter+1)),\n",
    "                      'susceptible':S_n,\n",
    "                       'infected':I_n,\n",
    "                       'recovered':R_n\n",
    "                      })\n",
    "    return df\n",
    "    "
   ]
  },
  {
   "cell_type": "code",
   "execution_count": 78,
   "metadata": {},
   "outputs": [
    {
     "data": {
      "text/plain": [
       "Text(0.5, 1.0, 'SIRS Simulation')"
      ]
     },
     "execution_count": 78,
     "metadata": {},
     "output_type": "execute_result"
    },
    {
     "data": {
      "image/png": "[encoded data removed]",
      "text/plain": [
       "<Figure size 432x288 with 1 Axes>"
      ]
     },
     "metadata": {
      "needs_background": "light"
     },
     "output_type": "display_data"
    }
   ],
   "source": [
    "#I'll use 30 days worth of data\n",
    "t0 = data.timestamp.max() - 86400 * 30\n",
    "t1 = data.timestamp.max() \n",
    "G = get_slice(data, t0, t1)\n",
    "\n",
    "df_SIRS = SIRS_simulation(G)\n",
    "fig, ax = plt.subplots()\n",
    "ax.plot(df_SIRS.susceptible)\n",
    "ax.plot(df_SIRS.infected)\n",
    "ax.plot(df_SIRS.recovered)\n",
    "ax.legend([\"Susceptible\", \"Infected\", \"Recovered\"])\n",
    "ax.set_xlabel('Time')\n",
    "ax.set_ylabel('Nodes')\n",
    "ax.set_title(\"SIRS Simulation\")"
   ]
  },
  {
   "cell_type": "markdown",
   "metadata": {},
   "source": [
    "### Further learning"
   ]
  },
  {
   "cell_type": "markdown",
   "metadata": {},
   "source": [
    "Since the above exercises teaches you how to write down epidemic models (as systems of differential equations)\n",
    "and subsequently teaches you how to simulate a spreading process on a network to obtain data on infected/susceptible/recovered\n",
    "over time, you would think it natural that I also taught you how to fit these epidemic models to such data.\n",
    "This, however, is going a bit too far as this is not a course in computational epidemiology. But if you want to\n",
    "figure out how to do it, you literally just need to Google search for \"fit SIR model\"."
   ]
  },
  {
   "cell_type": "markdown",
   "metadata": {},
   "source": [
    "And finally, a note on how these models are used in the real world. The state-of-the-art in epidemiological modeling is something called \"meta popultion models\". They are essentially systems of compartmental models. One component in such a model may be a country, and it has its own little SI, SIR or SIRS model. Components are then coupled because there are people moving between them. The paper *The Hidden Geometry of Complex,\n",
    "Network-Driven Contagion Phenomena* by Dirk Brockmann and Dirk Helbing published in Science in 2013 ([link here](https://www.dropbox.com/s/hxprfyr51fwh907/brockmann13.pdf?dl=0)) sets up such a model for the world using airline traffic as a proxy for people flow between countries. It is a must read if you\n",
    "are curious about how the pros predict things like when a disease will arrive in a certain place or where a disease originated. I strongly recommend reading it and understanding the figures, it is a stroke of genius."
   ]
  },
  {
   "cell_type": "code",
   "execution_count": null,
   "metadata": {},
   "outputs": [],
   "source": []
  }
 ],
 "metadata": {
  "kernelspec": {
   "display_name": "Python 3",
   "language": "python",
   "name": "python3"
  },
  "language_info": {
   "codemirror_mode": {
    "name": "ipython",
    "version": 3
   },
   "file_extension": ".py",
   "mimetype": "text/x-python",
   "name": "python",
   "nbconvert_exporter": "python",
   "pygments_lexer": "ipython3",
   "version": "3.7.6"
  },
  "nav_menu": {},
  "toc": {
   "base_numbering": 1,
   "nav_menu": {},
   "number_sections": false,
   "sideBar": true,
   "skip_h1_title": false,
   "title_cell": "Table of Contents",
   "title_sidebar": "Contents",
   "toc_cell": false,
   "toc_position": {},
   "toc_section_display": "block",
   "toc_window_display": true
  },
  "varInspector": {
   "cols": {
    "lenName": 16,
    "lenType": 16,
    "lenVar": 40
   },
   "kernels_config": {
    "python": {
     "delete_cmd_postfix": "",
     "delete_cmd_prefix": "del ",
     "library": "var_list.py",
     "varRefreshCmd": "print(var_dic_list())"
    },
    "r": {
     "delete_cmd_postfix": ") ",
     "delete_cmd_prefix": "rm(",
     "library": "var_list.r",
     "varRefreshCmd": "cat(var_dic_list()) "
    }
   },
   "types_to_exclude": [
    "module",
    "function",
    "builtin_function_or_method",
    "instance",
    "_Feature"
   ],
   "window_display": false
  }
 },
 "nbformat": 4,
 "nbformat_minor": 2
}
