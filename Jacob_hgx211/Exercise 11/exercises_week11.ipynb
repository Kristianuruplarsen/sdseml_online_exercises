{
 "cells": [
  {
   "cell_type": "markdown",
   "metadata": {},
   "source": [
    "# Week 11: Networks 3 (epidemiology)\n"
   ]
  },
  {
   "cell_type": "markdown",
   "metadata": {
    "ExecuteTime": {
     "end_time": "2017-08-23T15:30:03.634114Z",
     "start_time": "2017-08-23T15:30:03.629294Z"
    }
   },
   "source": [
    "While researchers have been modeling the spread of diseases and information for many years, the COVID-19 pandemic playing out right now puts a new emphasis on the importance of being able to model (and thus predict) how diseases propagate through populations. So how do you most effectively model the spread of a disease? There are many^ ways, and all of them (at least the useful ones) involves networks. In this notebook you will get your hands on a couple different modeling approaches. Specifically:\n",
    "\n",
    "* Spreading processes on static networks\n",
    "* Spreading processes on temporal networks\n",
    "* Metapopulation models"
   ]
  },
  {
   "cell_type": "markdown",
   "metadata": {},
   "source": [
    "**Questions**: Outside of class, use [issue on GitHub](https://github.com/abjer/tsds/issues) for asking questions."
   ]
  },
  {
   "cell_type": "markdown",
   "metadata": {},
   "source": [
    "## Imports"
   ]
  },
  {
   "cell_type": "code",
   "execution_count": 1,
   "metadata": {
    "ExecuteTime": {
     "end_time": "2020-04-24T11:47:07.339115Z",
     "start_time": "2020-04-24T11:47:06.861645Z"
    }
   },
   "outputs": [],
   "source": [
    "%matplotlib inline\n",
    "import matplotlib.pylab as plt\n",
    "import networkx as nx\n",
    "import netwulf as nw\n",
    "import numpy as np\n",
    "import pandas as pd"
   ]
  },
  {
   "cell_type": "markdown",
   "metadata": {},
   "source": [
    "## Exercises"
   ]
  },
  {
   "cell_type": "markdown",
   "metadata": {},
   "source": [
    "In a *contact network* nodes are people and links represent interactions that can happen between people. You can use such a network as a *substrate* for simulating the spreading of \"something\". Spreading of what? That's up to you. It can be a disease, a behavior, a piece of information, anything you can imagine people may pass along. There's a whole subfield of Network Science which deals with this, but the fundamental idea is actually quite simple:\n",
    "\n",
    "> Nodes that are connected can transmit this \"something\" with a probability. Each timestep of the simulation is an opportunity for the \"something\" to spread.\n",
    "\n",
    "You can then make this more nuanced by adding extra criteria for transmission. For disease modeling these can e.g. be that nodes can only be infected after multiple exposures or if multiple neighbors are infected, that they can be cured and become resistant/susceptible with some probability, that they may die and exit the simulation creating a void in the network, that becoming infected makes them change their links, that godzilla walks in and eats everyone—the possibilities are endless and you decide which rules exist in the simulation universe."
   ]
  },
  {
   "cell_type": "markdown",
   "metadata": {},
   "source": [
    "Generally speaking, there are four major classes of so-called \"compartmental models\" in network epidemiology:\n",
    "* *Susceptible-Infected (SI)*: Nodes are susceptible at start, and once they are infected they never recover. This models spreading of unforgetable information, or diseases that people get and pass on, and never recover from (like HIV, herpes, etc.).\n",
    "* *Susceptible-Infected-Susceptible (SIS)*: Nodes are susceptible, then get infected and stay infected for some time, then get susceptible again, an the cycle continues. This could model things like the flu which comes and goes and you get and recover from over and over again.\n",
    "* *Susceptible-Infected-Resistant (SIR)*: Nodes become infected and after some time they gain resistance so that they can niether become infected nor spread disease/information further. Once they are resistant they are essentially \"removed\" from the network, so this type of model works for diseases where people recover and gain resistance as well as ones that kill people, as niether type of person can transmit (measles, chickenpox but also rabies, Creutzfeldt–Jakob disease, etc.).\n",
    "* *Susceptible-Infected-Resistant-Susceptible (SIRS)*: Probably self-explanatory if you understood the above."
   ]
  },
  {
   "cell_type": "markdown",
   "metadata": {},
   "source": [
    "The idea that drives the \"compartmenal\" modeling approach is that within a population you can assign each\n",
    "individual to a compartment based on their \"state\" (infected, susceptible, etc.). When you start the simulation,\n",
    "individuals then flow between compartments with specific flow rates.\n",
    "\n",
    "![img](https://upload.wikimedia.org/wikipedia/commons/9/93/SIR_Flow_Diagram.svg)\n",
    "\n",
    "This then allows us to describe the flow of individuals between compartments (and thus the spreading of the disease)\n",
    "using differential equations. For example in the simple SIR model shown above, the dynamics can be described with\n",
    "three differential equations (one for each compartment). They each tell us how fast the population in the corresponding\n",
    "compartment it changing:\n",
    "\n",
    "$$\\frac{dS}{dt} = -\\beta SI$$\n",
    "\n",
    "$$\\frac{dI}{dt} = \\beta SI - \\gamma I$$\n",
    "\n",
    "$$\\frac{dR}{dt} = \\gamma I$$"
   ]
  },
  {
   "cell_type": "markdown",
   "metadata": {},
   "source": [
    "So at a given point in time how many people are leaving the susceptible compartment and entering the Infected compartment?\n",
    "Well that's simply the the number of susceptible $S$ times the number of infected $I$ multipled with some disease-specific constant $\\beta$.\n",
    "\n",
    "And what's the growth in the number of infected? Easy! It's just the number of people coming in from the susceptible compartment $\\beta SI$ minus all the people leaving for the \"Recovered\" compartment $\\gamma I$, where gamma is some constant that describs how fast people recover.\n",
    "\n",
    "And the rate at which people enter the recovered state? If you understood the above you can explain this to yourself.\n",
    "\n",
    "**That's it!**. That's how all compartmental models work!"
   ]
  },
  {
   "cell_type": "markdown",
   "metadata": {},
   "source": [
    "> **Ex. 11.1.1**: But as I wrote above there are many different types of compartmental models. Write down the rate equations for the SIS model:\n",
    ">\n",
    ">![img](https://upload.wikimedia.org/wikipedia/commons/c/cb/SIS_compartment_model.svg)\n",
    ">\n",
    "> Follow the reasoning in the example for the SIR model above. Answer the following:\n",
    "* how many equations you need if there are two compartments.\n",
    "  - **ANSWER:** $2$ compartments $\\Rightarrow$ $2$ equations:\n",
    "  $$\\frac{dS}{dt} = \\gamma I -\\beta SI$$\n",
    "  $$\\frac{dI}{dt} = \\beta SI - \\gamma I$$  \n",
    "* What specifically does each equation describe?\n",
    "  - **ANWER:** Each equation describes the net flow of people in each compartment. Equation 1 says that the people becoming susceptible is positively proportional to the number of infected (people becoming healthy) and negatively proportional to the product of susceptible and infected (people getting sick). Equation 2 is the same with opposite sign, since all people are moving between the two compartment.\n",
    "* What do $\\beta$ and $\\gamma$ intuitively describe? What can you say about a disease with a really big $\\gamma$? Or a really small $\\gamma$? How about big or small $\\beta$?\n",
    "  - **ANSWER:** $\\beta$ is a measure of how infectious the disease is. $\\gamma$ is a measure of how quickly people recover from the disease.\n",
    "    - Big (small) $\\gamma$: People are sick for a very long (short) period of time\n",
    "    - Big (small) $\\beta$: Each infected person spreads the disease to many (few) people"
   ]
  },
  {
   "cell_type": "markdown",
   "metadata": {},
   "source": [
    "> **Ex. 11.1.2** (optional): If you really understood the above, you should have no trouble writing down the equations for a SIRS\n",
    "model. Go ahead and try. Hint: You will need to introduce a new constant that describes the rate at which people move from R to S.\n",
    "\n",
    "$$\\frac{dS}{dt} = \\alpha R -\\beta SI$$\n",
    "$$\\frac{dI}{dt} = \\beta SI - \\gamma I$$\n",
    "$$\\frac{dR}{dt} = \\gamma I - \\alpha R$$ "
   ]
  },
  {
   "cell_type": "markdown",
   "metadata": {},
   "source": [
    "> **Ex. 11.1.3**: Professor of physics and mathematic and all around cool guy, Dirk Brockmann,\n",
    "makes interactive articles called *Explorables* that introduce ideas in Complexity science. Read/play with\n",
    "[his explorable](http://www.complexity-explorables.org/explorables/neighbors/) on targeted vaccination to mitigate epidemic spreading in the real world and answer the\n",
    "following questions:\n",
    "> 1. In the BA network, roughly what percentage of the population do you have to vaccinate with **strategy A** to only get around 10\n",
    "infected individuals? What about **startegy B** and **strategy C**?\n",
    "  - **ANSWER:** Strategy A: About 75% vaccinated\n",
    "  - **ANSWER:**Strategy B: About 15% vaccinated\n",
    "  - **ANSWER:** Strategy C: About 50% vaccinated\n",
    "> 2. **strategy A** and **strategy C** are both entirely random, but one is much more effective than the other. Explain\n",
    "why. What clever idea is **strategy C** employing?\n",
    "  - **ANSWER:** Strategy C chooses a person at random and then vaccinates one of their neighbors. This means that people who are more connected are more likely to be vaccinated, and thus the strategy is more effective than strategy A, where you vaccinate a larger fraction of people not being very connected.\n",
    "> 3. Why is this effect larger in the BA network than in the ER network?\n",
    "  - **ANSWER:** The BA network has a more heavy-tailed degree distribution than the ER network, the intuition being that the BA network has a few heavily linked people. Using strategy C (which tends to vaccinate more heavily linked people) is more effective in the BA network than the ER network, as there are many heavily linked people (compared to the ER network). These heavily linked people can (if they get sick) be interpreted as the so-called 'super-spreaders'."
   ]
  },
  {
   "cell_type": "markdown",
   "metadata": {},
   "source": [
    "> **Ex. 11.1.4**: Choose one of these two explorables ([1](http://www.complexity-explorables.org/explorables/herd/) or [2](http://www.complexity-explorables.org/explorables/epidemonic/)) read/play with and understand it, and explain in your own words what phenomenon it communicates.\n",
    "  - **ANSWER:** I chose the first explorable on herd immunity. The explorable demonstrates that even if not all people get vaccinated, as long as enough do, then the disease can 'die out'. Thus, as long as *enough* people are vaccinated, not all people need to get vaccinated (for instance, in the real world there is a very small fraction of the population who might have legitimate medical reasons not to get the vaccine)."
   ]
  },
  {
   "cell_type": "markdown",
   "metadata": {},
   "source": [
    "> **Ex. 11.1.5**: The simplest compartmental model is the *SI* model. Below I have implemented a simulation of such a model.\n",
    "You can see in line 5 that I initialize all nodes in the *S* compartment, but after running, all nodes are in the *I* compartment.\n",
    "Does this make sense to you?\n",
    "\n",
    "**ANSWER:** Yes: In the $SI$ model you are either susceptible or infected. Each point in time, some of the susceptible get infected, but none of the infected can be susceptible again. Thus, as time goes by, everyone must become infected eventually.\n",
    "1. Comment the code abundantly, explaining what's happing at each step.\n",
    "2. Adapt the code and make a plot of the fraction of infected over time. You may have to restart it a couple of time to make sure patient 0 is someone connected to the rest of the population.\n",
    "3. Extend the code such after a variable number of timesteps `T_I` infected nodes become susceptible again. Set `T_I = 10` to begin with and plot the fraction of infected over time for 200 timesteps. Does the result make sense? Comment on what you see."
   ]
  },
  {
   "cell_type": "code",
   "execution_count": 2,
   "metadata": {
    "ExecuteTime": {
     "end_time": "2020-04-24T11:40:56.524830Z",
     "start_time": "2020-04-24T11:40:56.521674Z"
    }
   },
   "outputs": [],
   "source": [
    "# Create network by creating l cliques of size k and then rewiring a single edge in each clique\n",
    "# to a node in an adjacent clique. The resulting network is HEAVILY clustered\n",
    "l,k = 10, 5\n",
    "N = l*k # Number of people in network\n",
    "G = nx.connected_caveman_graph(l,k) \n",
    "# _ = nw.visualize(G) # Uncomment if you want to have a look at the network"
   ]
  },
  {
   "cell_type": "code",
   "execution_count": 3,
   "metadata": {
    "ExecuteTime": {
     "end_time": "2020-04-24T11:40:34.820432Z",
     "start_time": "2020-04-24T11:40:34.787128Z"
    }
   },
   "outputs": [
    {
     "data": {
      "text/plain": [
       "[<matplotlib.lines.Line2D at 0x14fc1100ac8>]"
      ]
     },
     "execution_count": 3,
     "metadata": {},
     "output_type": "execute_result"
    },
    {
     "data": {
      "image/png": "[encoded data removed]",
      "text/plain": [
       "<Figure size 432x288 with 1 Axes>"
      ]
     },
     "metadata": {
      "needs_background": "light"
     },
     "output_type": "display_data"
    }
   ],
   "source": [
    "# WITHOUT EXTENSION\n",
    "\n",
    "p_I = 0.1    # Probability of infected person infecting susceptible person\n",
    "n_iter = 200 # Number of time periods\n",
    "\n",
    "I = set()          # Set of infected people\n",
    "S = set(G.nodes()) # Set of susceptible people --- everyone to begin with\n",
    "\n",
    "patient0 = np.random.choice(list(S)) # Choose a random patient zero (first infected person)\n",
    "\n",
    "# Make patient zero infected\n",
    "I.add(patient0)    \n",
    "S.remove(patient0)\n",
    "\n",
    "frac_I = [] # List for storing fraction of infected people\n",
    "\n",
    "for t in range(n_iter): # Loop for time t = 0,1,...,n_iter-1\n",
    "    for infected_node in list(I): # Loop over all infected people\n",
    "        neighbors = G.neighbors(infected_node) # Find the neighbors of each infected person\n",
    "        infected_neighbors = set([n for n in neighbors if np.random.random() < p_I]) # Infect each neighbor with prob. p\n",
    "        I |= infected_neighbors # Add the infected neighbors to the set of infected people\n",
    "        S -= infected_neighbors # Remove the infected neighbors from the set of susceptible people\n",
    "    frac_I.append(len(I)/N) # Store the fraction of infected people\n",
    "    \n",
    "# Plot fraction of infected people over time\n",
    "plt.plot(frac_I)"
   ]
  },
  {
   "cell_type": "code",
   "execution_count": 4,
   "metadata": {},
   "outputs": [
    {
     "data": {
      "text/plain": [
       "[<matplotlib.lines.Line2D at 0x14fc11d5a08>]"
      ]
     },
     "execution_count": 4,
     "metadata": {},
     "output_type": "execute_result"
    },
    {
     "data": {
      "image/png": "[encoded data removed]",
      "text/plain": [
       "<Figure size 432x288 with 1 Axes>"
      ]
     },
     "metadata": {
      "needs_background": "light"
     },
     "output_type": "display_data"
    }
   ],
   "source": [
    "### WITH EXTENSION\n",
    "\n",
    "G = nx.connected_caveman_graph(l,k) # Make new network\n",
    "\n",
    "p_I = 0.1    # Probability of infected person infecting susceptible person\n",
    "n_iter = 200 # Number of time periods\n",
    "T_I = 10     # Number of periods before infected person becomes susceptible again\n",
    "\n",
    "I = set()          # Set of infected people\n",
    "S = set(G.nodes()) # Set of susceptible people --- everyone to begin with\n",
    "remove_time = [set()] * n_iter # List containing information on when people get healthy\n",
    "\n",
    "patient0 = np.random.choice(list(S)) # Choose a random patient zero (first infected person)\n",
    "\n",
    "# Make patient zero infected\n",
    "I.add(patient0)\n",
    "remove_time[T_I-1] = I\n",
    "S.remove(patient0)\n",
    "\n",
    "frac_I = [] # List for storing fraction of infected people\n",
    "\n",
    "for t in range(n_iter): # Loop for time t = 0,1,...,n_iter-1\n",
    "    I = I - remove_time[t] # Remove people who have been infected for T_I periods from set of infected\n",
    "    S = S | remove_time[t] # Add people who have been infected for T_I periods to set of susceptible\n",
    "    for infected_node in list(I): # Loop over all infected people\n",
    "        neighbors = G.neighbors(infected_node) # Find the neighbors of each infected person\n",
    "        infected_neighbors = set([n for n in neighbors if np.random.random() < p_I]) # Infect each neighbor with prob. p\n",
    "        # Newly infected people are susceptible T_I periods from now:\n",
    "        try:\n",
    "            remove_time[t+T_I] = remove_time[t+T_I] | (infected_neighbors - I)\n",
    "        except:\n",
    "            pass\n",
    "        I |= infected_neighbors # Add the infected neighbors to the set of infected people\n",
    "        S -= infected_neighbors # Remove the infected neighbors from the set of susceptible people\n",
    "    frac_I.append(len(I)/N) # Store the fraction of infected people\n",
    "            \n",
    "plt.plot(frac_I) # Plot fraction of infected over time\n",
    "\n",
    "# COMMENT: I see that it takes much longer time for everyone to get infected, which is not surprising, given\n",
    "#          that people now can get healthy. In fact, in 200 periods, everyone does not get infected. At the peak,\n",
    "#          about 85% of the population is infected."
   ]
  },
  {
   "cell_type": "markdown",
   "metadata": {},
   "source": [
    "> **Ex. 11.1.6**: Use what you have learned and implement an SIRS model.\n",
    "* Run it on the Facebook network from last week (so load that into a `networkx.Graph`).\n",
    "* Record the fraction of infected, susceptiple and recovered over time.\n",
    "* After the simulation has run, plot these quantities over time and comment on your results\n",
    "* Be proud of yourself for having solved a really interesting problem."
   ]
  },
  {
   "cell_type": "code",
   "execution_count": 5,
   "metadata": {},
   "outputs": [
    {
     "data": {
      "text/plain": [
       "<matplotlib.legend.Legend at 0x14fc2a1e888>"
      ]
     },
     "execution_count": 5,
     "metadata": {},
     "output_type": "execute_result"
    },
    {
     "data": {
      "image/png": "[encoded data removed]",
      "text/plain": [
       "<Figure size 432x288 with 1 Axes>"
      ]
     },
     "metadata": {
      "needs_background": "light"
     },
     "output_type": "display_data"
    }
   ],
   "source": [
    "# Load data\n",
    "data = pd.read_csv(\n",
    "    \"facebook-wall.txt\",\n",
    "    delimiter=\"\\t\",\n",
    "    header=None,\n",
    "    names=['user1', 'user2', 'timestamp']\n",
    ")\n",
    "\n",
    "# Choose only last year\n",
    "t0 = data.timestamp.max() - 86400 * 7  # Lower bound of time-slice (here: 7 days before last wall post)\n",
    "t1 = data.timestamp.max()              # Upper bound of time-slice\n",
    "data = data.loc[data.timestamp.between(t0, t1)]\n",
    "\n",
    "# Create a graph from this dataframe\n",
    "G = nx.from_pandas_edgelist(data, 'user1', 'user2')\n",
    "\n",
    "p_I = 0.4    # Probability of infected person infecting susceptible person \n",
    "p_R = 0.04   # Probability of infected person recovering\n",
    "p_S = 0.02   # Probability of recovered person becoming susceptible\n",
    "n_iter = 200 # Number of time periods\n",
    "\n",
    "I = set()          # Set of infected people\n",
    "S = set(G.nodes()) # Set of susceptible people --- everyone to begin with\n",
    "R = set()          # Set of recovered people\n",
    "\n",
    "patient0 = np.random.choice(list(S)) # Choose a random patient zero (first infected person)\n",
    "\n",
    "# Make patient zero infected\n",
    "I.add(patient0)    \n",
    "S.remove(patient0)\n",
    "\n",
    "frac_S = [] # List for storing fraction of susceptible people\n",
    "frac_I = [] # List for storing fraction of infected people\n",
    "frac_R = [] # List for storing fraction of recovered people\n",
    "\n",
    "for t in range(n_iter): # Loop for time t = 0,1,...,n_iter-1\n",
    "    # People becoming infected\n",
    "    becoming_infected = set()\n",
    "    for infected_node in list(I): # Loop over all infected people\n",
    "        neighbors = G.neighbors(infected_node) # Find the neighbors of each infected person\n",
    "        infected_neighbors = set([n for n in neighbors if np.random.random() < p_I]) # Infect each neighbor with prob. p\n",
    "        becoming_infected = becoming_infected | (infected_neighbors.intersection(S)) # Store people getting infected\n",
    "        \n",
    "    recovering = set([n for n in list(I) if np.random.random() < p_R]) # Store people recovering\n",
    "    losing_immunity = set([n for n in list(R) if np.random.random() < p_S]) # Store people losing immunity\n",
    "    \n",
    "    # Move people between compartments\n",
    "    S |= losing_immunity\n",
    "    I |= becoming_infected\n",
    "    R |= recovering\n",
    "    S -= becoming_infected\n",
    "    I -= recovering\n",
    "    R -= losing_immunity\n",
    "    \n",
    "    # Store the fraction of people in each compartment\n",
    "    frac_S.append(len(S)/N)\n",
    "    frac_I.append(len(I)/N)\n",
    "    frac_R.append(len(R)/N)\n",
    "\n",
    "# Plot\n",
    "plt.plot(frac_S, label='S')\n",
    "plt.plot(frac_I, label='I')\n",
    "plt.plot(frac_R, label='R')\n",
    "plt.legend()"
   ]
  },
  {
   "cell_type": "markdown",
   "metadata": {},
   "source": [
    "### Further learning"
   ]
  },
  {
   "cell_type": "markdown",
   "metadata": {},
   "source": [
    "Since the above exercises teaches you how to write down epidemic models (as systems of differential equations)\n",
    "and subsequently teaches you how to simulate a spreading process on a network to obtain data on infected/susceptible/recovered\n",
    "over time, you would think it natural that I also taught you how to fit these epidemic models to such data.\n",
    "This, however, is going a bit too far as this is not a course in computational epidemiology. But if you want to\n",
    "figure out how to do it, you literally just need to Google search for \"fit SIR model\"."
   ]
  },
  {
   "cell_type": "markdown",
   "metadata": {},
   "source": [
    "And finally, a note on how these models are used in the real world. The state-of-the-art in epidemiological modeling is something called \"meta popultion models\". They are essentially systems of compartmental models. One component in such a model may be a country, and it has its own little SI, SIR or SIRS model. Components are then coupled because there are people moving between them. The paper *The Hidden Geometry of Complex,\n",
    "Network-Driven Contagion Phenomena* by Dirk Brockmann and Dirk Helbing published in Science in 2013 ([link here](https://www.dropbox.com/s/hxprfyr51fwh907/brockmann13.pdf?dl=0)) sets up such a model for the world using airline traffic as a proxy for people flow between countries. It is a must read if you\n",
    "are curious about how the pros predict things like when a disease will arrive in a certain place or where a disease originated. I strongly recommend reading it and understanding the figures, it is a stroke of genius."
   ]
  }
 ],
 "metadata": {
  "kernelspec": {
   "display_name": "Python 3",
   "language": "python",
   "name": "python3"
  },
  "language_info": {
   "codemirror_mode": {
    "name": "ipython",
    "version": 3
   },
   "file_extension": ".py",
   "mimetype": "text/x-python",
   "name": "python",
   "nbconvert_exporter": "python",
   "pygments_lexer": "ipython3",
   "version": "3.7.4"
  },
  "nav_menu": {},
  "toc": {
   "base_numbering": 1,
   "nav_menu": {},
   "number_sections": false,
   "sideBar": true,
   "skip_h1_title": false,
   "title_cell": "Table of Contents",
   "title_sidebar": "Contents",
   "toc_cell": false,
   "toc_position": {},
   "toc_section_display": "block",
   "toc_window_display": true
  },
  "varInspector": {
   "cols": {
    "lenName": 16,
    "lenType": 16,
    "lenVar": 40
   },
   "kernels_config": {
    "python": {
     "delete_cmd_postfix": "",
     "delete_cmd_prefix": "del ",
     "library": "var_list.py",
     "varRefreshCmd": "print(var_dic_list())"
    },
    "r": {
     "delete_cmd_postfix": ") ",
     "delete_cmd_prefix": "rm(",
     "library": "var_list.r",
     "varRefreshCmd": "cat(var_dic_list()) "
    }
   },
   "types_to_exclude": [
    "module",
    "function",
    "builtin_function_or_method",
    "instance",
    "_Feature"
   ],
   "window_display": false
  }
 },
 "nbformat": 4,
 "nbformat_minor": 2
}
