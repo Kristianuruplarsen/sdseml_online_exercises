{
 "cells": [
  {
   "cell_type": "markdown",
   "metadata": {},
   "source": [
    "# Chebyshevs polynomials"
   ]
  },
  {
   "cell_type": "code",
   "execution_count": 30,
   "metadata": {},
   "outputs": [],
   "source": [
    "from sympy.abc import x\n",
    "import matplotlib.pyplot as plt\n",
    "import numpy as np"
   ]
  },
  {
   "cell_type": "code",
   "execution_count": 31,
   "metadata": {},
   "outputs": [
    {
     "name": "stdout",
     "output_type": "stream",
     "text": [
      "1\n",
      "x\n"
     ]
    },
    {
     "data": {
      "text/latex": [
       "$\\displaystyle 2 x^{2} - 1$"
      ],
      "text/plain": [
       "2*x**2 - 1"
      ]
     },
     "execution_count": 31,
     "metadata": {},
     "output_type": "execute_result"
    }
   ],
   "source": [
    "def TnFactory(n):\n",
    "    \"\"\"\n",
    "    Calculates the nth Chebyshev polynomial using the recursive relation:\n",
    "        T_n = 2x * T_{n - 1} - T_{n - 2}\n",
    "    :return: the nth Chebyshev polynomial\n",
    "    :rtype: Polynomial\n",
    "    \"\"\"\n",
    "    if n == 0:\n",
    "        return 1\n",
    "    if n == 1:\n",
    "        return x\n",
    "    #Recursive case\n",
    "    else:\n",
    "        return 2 * x * TnFactory(n-1) - TnFactory(n-2)\n",
    "\n",
    "print(TnFactory(0))\n",
    "print(TnFactory(1))\n",
    "TnFactory(2)"
   ]
  },
  {
   "cell_type": "markdown",
   "metadata": {},
   "source": [
    "### Plot on x on (-1; 1) the Chebyshev polynomials T1,...,T5."
   ]
  },
  {
   "cell_type": "code",
   "execution_count": 38,
   "metadata": {},
   "outputs": [
    {
     "data": {
      "text/plain": [
       "Text(0.5, 1.0, 'Chebyshev polynomials')"
      ]
     },
     "execution_count": 38,
     "metadata": {},
     "output_type": "execute_result"
    },
    {
     "data": {
      "image/png": "[encoded data removed]",
      "text/plain": [
       "<Figure size 432x288 with 1 Axes>"
      ]
     },
     "metadata": {
      "needs_background": "light"
     },
     "output_type": "display_data"
    }
   ],
   "source": [
    "N = 5 # Steps, must match with amount of polynomials i.e. n=N\n",
    "x = np.linspace(-1,1,N) #interval\n",
    "plt.scatter(x,TnFactory(5))\n",
    "plt.xlabel('x')\n",
    "plt.ylabel('TnFactory')\n",
    "plt.title('Chebyshev polynomials', size=25)"
   ]
  }
 ],
 "metadata": {
  "kernelspec": {
   "display_name": "Python 3",
   "language": "python",
   "name": "python3"
  },
  "language_info": {
   "codemirror_mode": {
    "name": "ipython",
    "version": 3
   },
   "file_extension": ".py",
   "mimetype": "text/x-python",
   "name": "python",
   "nbconvert_exporter": "python",
   "pygments_lexer": "ipython3",
   "version": "3.7.4"
  }
 },
 "nbformat": 4,
 "nbformat_minor": 4
}
