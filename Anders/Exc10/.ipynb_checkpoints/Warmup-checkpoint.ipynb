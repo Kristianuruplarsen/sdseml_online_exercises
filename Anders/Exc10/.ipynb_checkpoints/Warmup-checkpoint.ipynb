{
 "cells": [
  {
   "cell_type": "markdown",
   "metadata": {},
   "source": [
    "## Q1\n",
    "$a^2 + b^2 = c^2$\n",
    "Multiplying with q:\n",
    "$(qa)^2 + (qb)^2 = (qc)^2$ \n",
    "Reducing LHS:\n",
    "$q^2*(a^2+b^2) = (qc)^2$\n",
    "Dividing with $q^2$:\n",
    "$a^2 + b^2 = c^2$\n",
    "Thus, if (a, b, c) is a Pythogeran triplet (qa,qb,qc) is."
   ]
  },
  {
   "cell_type": "code",
   "execution_count": 15,
   "metadata": {},
   "outputs": [
    {
     "data": {
      "text/plain": [
       "True"
      ]
     },
     "execution_count": 15,
     "metadata": {},
     "output_type": "execute_result"
    }
   ],
   "source": [
    "t =(3,4,5)\n",
    "def ptriples(tup):\n",
    "    return tup[2]**2 == tup[0]**2 + tup[1]**2\n",
    "ptriples(t)"
   ]
  },
  {
   "cell_type": "markdown",
   "metadata": {},
   "source": [
    "## Q2 \n",
    "Plot in (a,b) space all Pythagorean triples where a,b < 10 000"
   ]
  },
  {
   "cell_type": "code",
   "execution_count": 1,
   "metadata": {},
   "outputs": [],
   "source": [
    "import math\n",
    "import matplotlib.pyplot as plt"
   ]
  },
  {
   "cell_type": "code",
   "execution_count": null,
   "metadata": {},
   "outputs": [],
   "source": [
    "# Define function to save a and b in Pythagorean triplets\n",
    "def pythagorean_triplet(n):\n",
    "    # Initialse lists\n",
    "    A = []\n",
    "    B = []\n",
    "    \n",
    "    # Loop over n\n",
    "    for b in range(n):\n",
    "        for a in range(1, b):\n",
    "            c = math.sqrt(a**2 + b**2)\n",
    "            if c % 1 == 0:\n",
    "                A.append(a)\n",
    "                B.append(b)\n",
    "                \n",
    "    return A, B\n",
    "\n",
    "# Get all a's and b's < 10,000 in Pythagorean triplets\n",
    "A, B = pythagorean_triplet(10000)\n",
    "\n",
    "# Plot a and b\n",
    "plt.figure(figsize=(10,10))\n",
    "plt.scatter(A, B)\n",
    "plt.xlabel('a')\n",
    "plt.ylabel('b')\n",
    "plt.title('(a,b) in Pythagorean Triplets with a,b < 10,000')\n",
    "plt.show()"
   ]
  }
 ],
 "metadata": {
  "kernelspec": {
   "display_name": "Python 3",
   "language": "python",
   "name": "python3"
  },
  "language_info": {
   "codemirror_mode": {
    "name": "ipython",
    "version": 3
   },
   "file_extension": ".py",
   "mimetype": "text/x-python",
   "name": "python",
   "nbconvert_exporter": "python",
   "pygments_lexer": "ipython3",
   "version": "3.7.4"
  }
 },
 "nbformat": 4,
 "nbformat_minor": 4
}
