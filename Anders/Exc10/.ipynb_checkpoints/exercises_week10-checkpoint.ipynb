{
 "cells": [
  {
   "cell_type": "markdown",
   "metadata": {},
   "source": [
    "# Week 10: Networks 2\n"
   ]
  },
  {
   "cell_type": "markdown",
   "metadata": {
    "ExecuteTime": {
     "end_time": "2017-08-23T15:30:03.634114Z",
     "start_time": "2017-08-23T15:30:03.629294Z"
    }
   },
   "source": [
    "Networks are mathematical representations of complex systems. We can use networks to gain various statistical insight about the system we're representing, and we can look for patterns at the meso-scale by employing *community detection* algorithms. This week we will explore the following:\n",
    "\n",
    "* Network null models\n",
    "* How to use a null model to infer the p-value of a result\n",
    "* How a popular community detection algorithm works (and fails)"
   ]
  },
  {
   "cell_type": "markdown",
   "metadata": {},
   "source": [
    "**Questions**: Outside of class, use [issue on GitHub](https://github.com/abjer/tsds/issues) for asking questions."
   ]
  },
  {
   "cell_type": "markdown",
   "metadata": {},
   "source": [
    "## Imports"
   ]
  },
  {
   "cell_type": "code",
   "execution_count": 42,
   "metadata": {
    "ExecuteTime": {
     "end_time": "2019-03-12T10:56:27.700322Z",
     "start_time": "2019-03-12T10:56:27.695950Z"
    }
   },
   "outputs": [],
   "source": [
    "%matplotlib inline\n",
    "import netwulf as nw\n",
    "import matplotlib.pylab as plt\n",
    "import networkx as nx           # `pip install networkx`\n",
    "import json\n",
    "from collections import Counter                # `pip install python-louvain` or `conda install -c auto python-louvain`\n",
    "import pandas as pd\n",
    "import progressbar\n",
    "import numpy as np\n",
    "import community"
   ]
  },
  {
   "cell_type": "markdown",
   "metadata": {},
   "source": [
    "## Exercises"
   ]
  },
  {
   "cell_type": "markdown",
   "metadata": {},
   "source": [
    "### Part 1: Network null models"
   ]
  },
  {
   "cell_type": "markdown",
   "metadata": {},
   "source": [
    "**What is a null model?** Null models are alternative instances of data, that are used to assess the amount of signal that is due to pure randomness. For example, you might have\n",
    "measured some signal in your data, like a large number of triangles (high average local clustering coefficient)\n",
    "in your network, but before you go and report that to your boss you need to answer one crucial question: how does\n",
    "this result compare with a *random* one? In other words, how can you be so sure that this high number of triangles\n",
    "measured is not perfectly normal even in a random network of similar origin and therefore not very special after all? The answer: **you\n",
    "create a null model to compare your result with!**\n",
    "\n",
    "> Note: null models are a concept from the general field of statistics and therefore not just specific to\n",
    "networks. You can use this statistical tool anytime you need to assess how likely it is that your result is random.\n",
    "\n",
    "The most common type of null model is one where you shuffle links in your network, while preserving the degree\n",
    "sequence. *(Recall, that the degree sequence is a list that stores the degree of each node. So if we shuffle and\n",
    "preserve the degree sequence at the same time, it means that after all the link-shuffling is done, nodes will\n",
    "have new neighbors, but the same number of neighbors)*. In this shuffled network (the null model), if you find that\n",
    "there are far fewer triangles than in your real data then you can start to argue that your result is significant.\n",
    "\n",
    "> Note: the term *null model* is a slight misnomer, as it is not a model per se, but rather an instance of the\n",
    "data that is permuted in some way (usually under constraints, such as preservation of degree sequence), so it can\n",
    "be taken to represent *randomness*. As such, there is no *model*, but rather an *instance* or simply *data*.\n",
    "\n",
    "But that is just one comparison. What if the number of triangles in the random data–the null model–is smaller, but\n",
    "not that much smaller? Can you still say your result is significant? Well, the trick (although computationally expensive\n",
    "as you will come to learn) is to do MANY comparisons. 1000 is not a bad start. For each comparison, you check if\n",
    "the number of triangles in your real data is bigger. After you have compared one thousand times you compute **the\n",
    "fraction of times** your number of triangles in the real data was bigger than in the random data. Guess what that\n",
    "number (between 0 and 1) is called? **The p-value**. And what does it communicate? **The probability that your result\n",
    "is random!**\n",
    "\n",
    "^ That's some useful statistics right there!\n",
    "\n",
    "Please make sure you have **READ AND UNDERSTOOD** the above, as you will otherwise have a very hard time completing the\n",
    "following exercises."
   ]
  },
  {
   "cell_type": "markdown",
   "metadata": {},
   "source": [
    "**Ex. 10.1.1**: The method described above works for anything you might want to measure in a network. Let's say,\n",
    "instead of measuring the number of triangles, you measured the network diameter. Explain in your own words how to\n",
    "assess the statistical significance (the p-value) of such a measurement, using the same null model."
   ]
  },
  {
   "cell_type": "markdown",
   "metadata": {},
   "source": [
    "**Answer**: <br /> The closer the P-value is to 1, the larger the probability that your measurement is random. Given the fraction (p-value) is calculated as the number of measurements in your real data was bigger than in the null model."
   ]
  },
  {
   "cell_type": "markdown",
   "metadata": {},
   "source": [
    "**Ex. 10.1.2**: The null model described above rewires a network while preserving the degree distribution. [Here](https://networkx.github.io/documentation/stable/reference/algorithms/generated/networkx.algorithms.swap.double_edge_swap.html#networkx.algorithms.swap.double_edge_swap) is\n",
    "implementation of it in NetworkX. In your own words, describe:\n",
    "1. how it works and why it achieves randomness\n",
    "without changing the degree distribution.\n",
    "2. Also describe what can sometimes happen and why the desired number of swaps `nswaps` is only an upper-bound on\n",
    "the number of swaps."
   ]
  },
  {
   "cell_type": "markdown",
   "metadata": {},
   "source": [
    "**Answer**: <br />\n",
    "1. It changes the edges such that they link to other nodes, resulting in different node combinations with the same degree, as no more edges are created. <br />\n",
    "2. The swaps may result in the same nodes connecting. In that case, it will by default change again. This process may be infite, if same combinations keep occuring. To combat infite computing time, there exists an upper bound of number of swaps - *nswaps*."
   ]
  },
  {
   "cell_type": "markdown",
   "metadata": {},
   "source": [
    "**Ex. 10.1.3**: Load the Facebook wall-post network from last week, into a `networkx.Graph` object called `G`.\n",
    "1. Measure the average local clustering coefficient (ALCC) of `G`. Print it.\n",
    "2. Over 1000 iterations, measure the ALCC for `G` where, in each iteration, you have made 1000 edge swaps using \n",
    "`double_edge_swap`. Append the measured ALCC values to a list. Print the average of this list. *Note: this will\n",
    "obviously take some time**.\n",
    "3. Report the p-value of your result, the ALCC of the real data.\n",
    "4. Make a histogram that displays the distribution of ALCC values in the null models as a histogram as well as\n",
    "the ALCC of the real data as a vertical line. Comment on this result. Does it make sense?"
   ]
  },
  {
   "cell_type": "markdown",
   "metadata": {},
   "source": [
    "**Answer 1**:"
   ]
  },
  {
   "cell_type": "code",
   "execution_count": 7,
   "metadata": {},
   "outputs": [],
   "source": [
    "def slice(data, days): \n",
    "    \"\"\" \n",
    "    Slicing a number of days\n",
    "    Returns: Data within the selected days\n",
    "    \"\"\"\n",
    "    t_0   =data.timestamp.max()-86400*days #86400 seconds per day\n",
    "    t_1   =data.timestamp.max()\n",
    "    data_t=data.loc[data.timestamp.between(t_0,t_1)]\n",
    "    data_t=data_t.groupby([\"user1\",\"user2\"]).size().reset_index(name=\"weight\")                   \n",
    "    \n",
    "    G_t   =nx.from_pandas_edgelist(data_t,\"user1\",\"user2\",\"weight\",create_using=nx.Graph)\n",
    "    return G_t"
   ]
  },
  {
   "cell_type": "code",
   "execution_count": 10,
   "metadata": {},
   "outputs": [],
   "source": [
    "#Importing the data\n",
    "data = pd.read_csv(\n",
    "    \"facebook-wall.txt.gz\",\n",
    "    delimiter=\"\\t\",\n",
    "    header=None,\n",
    "    names=['user1', 'user2', 'timestamp']\n",
    ")\n",
    "\n",
    "G = slice(data,7)"
   ]
  },
  {
   "cell_type": "code",
   "execution_count": 12,
   "metadata": {},
   "outputs": [
    {
     "name": "stdout",
     "output_type": "stream",
     "text": [
      "1. The average local clustering coefficient (ALCC) of G is =  0.01838401670026459\n"
     ]
    }
   ],
   "source": [
    "# 1.\n",
    "alcc = nx.average_clustering(G) #Using the nx package ALCC calculator\n",
    "print(\"1. The average local clustering coefficient (ALCC) of G is = \",alcc)"
   ]
  },
  {
   "cell_type": "code",
   "execution_count": null,
   "metadata": {},
   "outputs": [],
   "source": [
    "# 2. Calculate the ALCC for 1,000 null models\n",
    "#initiating list\n",
    "alcc_ = []\n",
    "\n",
    "for i in range(1000): #iterations\n",
    "    G_ = G.copy() #Copying the network, such that I can edit the new one and store the original\n",
    "    null = nx.double_edge_swap(G_, nswap=1000, max_tries=2000) #shuffling the new copied network, such that I can compare the two\n",
    "    alcc_.append(nx.average_clustering(null))"
   ]
  },
  {
   "cell_type": "code",
   "execution_count": null,
   "metadata": {},
   "outputs": [],
   "source": [
    "# 2. Print average of list\n",
    "avg = np.mean(alcc_) \n",
    "print(f'Average of 1,000 ALCCs from null models: {avg}')\n",
    "\n",
    "# 3. Calculate the p-value\n",
    "# Computing the fraction of number of times the random network is larger than the FB-network\n",
    "p = []\n",
    "for i in alcc_:\n",
    "    if i > alcc:\n",
    "        p.append(1)\n",
    "    elif i <= alcc:\n",
    "        p.append(0)\n",
    "\n",
    "print(f'p-value of ALCC of real data: {np.mean(p):.2f}')\n",
    "\n",
    "# 4. Histogram with the ALCC of the real data\n",
    "plt.figure(figsize=(10,5))\n",
    "plt.hist(alcc_, density=0, bins=100) \n",
    "plt.ylabel('Frequency')\n",
    "plt.xlabel('ALCC')\n",
    "plt.xticks(rotation=20)\n",
    "plt.title(\"Figure 1 Histogram of Average Local Cluster Coefficents of 1,000 Null Models\"\n",
    "          \"\\n and the Average Local Cluster Coefficent of the True Data\")\n",
    "plt.axvline(alcc, color='k', linestyle='dashed', linewidth=1)\n",
    "\n",
    "plt.show()"
   ]
  },
  {
   "cell_type": "markdown",
   "metadata": {},
   "source": [
    "### Part 2: Community detection"
   ]
  },
  {
   "cell_type": "markdown",
   "metadata": {},
   "source": [
    "Communities are little lumps of nodes in a network that are unusually strongly connected. Your family is a community, and your friend group from work or university is another community. While there is no one true definition of what a community is, there are many many different methods and algorithms for finding them. Here we will work with one of the most popular ones: [Louvain Modularity](https://en.wikipedia.org/wiki/Louvain_Modularity). The following exercises will walk you through the fundamentals of this method, and finally have you apply it to the network you used last week."
   ]
  },
  {
   "cell_type": "markdown",
   "metadata": {},
   "source": [
    "#### The modularity function"
   ]
  },
  {
   "cell_type": "markdown",
   "metadata": {},
   "source": [
    "> **Ex. 10.2.1**: Assume you have a network where nodes and links tend to form lumps here and there. Imagine you now reach for your pen, and start labeling these nodes with group names (or ids) that feel appropriate according to how they are lumped together. If your partition is \"good\", nodes that are connected in groups should intuitively have the same label, while nodes that are distant and disconnected should have different labels. Modularity is a function that can be used to measure, by this logic, *how good* your partition is. It is in technical terms a *utility function*, and it looks like this:\n",
    "> <br><br>\n",
    "> $$ Q = \\dfrac{1}{2m}\\sum_{ij}{\\left[A_{ij}-\\dfrac{k_ik_j}{2m}\\right]\\delta(c_i, c_j)}.$$\n",
    "> <br>\n",
    "> Your job in this problem is to explain this equation. When I look at daunting math I find it calming to try and read it as if it were code. Since all math can be implemented in code, all math can be broken into parts, where each part does a seperate thing. Answer each question below seperately:\n",
    "1. In code, a sum, $\\sum$, is like a `for` loop, where in every iteration you increment a variable. In the equation for modularity the little $ij$ subscript tells is what the sum is looping over (like `for ij in sumloop`). But what is $ij$?\n",
    "2. In each iteration of the sum, the delta function $\\delta(c_i, c_j)$ is used, where $c_i$ is the community label of node $i$. The delta function is a very simple program that returns 0 if the two input values are different and 1 if they are they same. How would you implement the delta function in code? What is it used for in the modularity equation?\n",
    "3. Inside the sum we use the term $\\frac{k_ik_j}{2m}$ as our *null model*. $k$ is the degree sequence (so $k_i$ is the degree of node $i$) and $m$ is the sum of all link weights. Explain what this null model measures. Could we have used other null models?\n",
    "4. The sum subtracts the null model from $A_{ij}$ and adds the result to its final value if the delta function evaluates to 1. What is the point of only summing over this difference when the delta function is 1?\n",
    "5. The sum term is normalized by $2m$. Why exactly $2m$?\n",
    "6. Summarize your insight gained from answering the above questions. In your own words, explain how the modularity function works. Use 1-3 sentences.\n"
   ]
  },
  {
   "cell_type": "markdown",
   "metadata": {},
   "source": [
    "**Answer** <br />\n",
    "1. i and j are nodes, and $k_i$ and $k_j$ are the sum of the weights of the edges attached to the nodes i and j. i and j are the row and column number in the matrix. <br />\n",
    "2. I would use \"c_i==c_j\" in a function, and have it return boolean values, i.e. 1 if True, and 0 if False. The $\\delta$ function tells if community $c_i$ and $c_j$ are the same or not. If they're different the function returns 0, thus Q=0, so only equal $c_i$ and $c_j$ communities are included in Q. <br />\n",
    "3. The fraction presents the weighted edges the two nodes span in relation to the entire network. I.e. the expected number of edges between nodes i and j, which is the probability that node i and j connect. <br />\n",
    "4. If the nodes don't connect, but are categorized in the same cluster, then it returns a negative value. Vice versa for nodes in same community which connect. If the nodes are not categorized in the same community it returns 0. Thus optimizing modularity results in placing nodes in the same cluster if they have a connection. <br /> \n",
    "5. Each edge is counted twice, as it connects two nodes. <br />\n",
    "6. The modularity function measures the density of links inside communities compared to links between communities. <br /> *Negative values*: non-modular clustering i.e. nodes are not connected in communities. <br /> *Positive values*: Nodes are connected in communities. "
   ]
  },
  {
   "cell_type": "markdown",
   "metadata": {},
   "source": [
    "> **Ex. 10.2.2**: Implement the modularity function. Write a Python function that takes as input an adjacency matrix and a label vector, and returns the modularity. Compute and print the modularity for the ones given below. The correct result is 0.122."
   ]
  },
  {
   "cell_type": "code",
   "execution_count": 13,
   "metadata": {
    "ExecuteTime": {
     "end_time": "2019-03-12T10:27:43.909671Z",
     "start_time": "2019-03-12T10:27:43.900257Z"
    }
   },
   "outputs": [],
   "source": [
    "import numpy as np\n",
    "\n",
    "#Edge weights\n",
    "A = np.array([\n",
    "    [0, 1, 1, 0, 0, 0],\n",
    "    [1, 0, 1, 0, 0, 0],\n",
    "    [1, 1, 0, 1, 0, 0],\n",
    "    [0, 0, 1, 0, 1, 1],\n",
    "    [0, 0, 0, 1, 0, 1],\n",
    "    [0, 0, 0, 1, 1, 0],\n",
    "])\n",
    "\n",
    "c = [0, 0, 0, 0, 1, 1]\n",
    "\n",
    "def kikjd2m(A): #ki*kj/2m \n",
    "    B = A.copy()\n",
    "    C = A.copy()\n",
    "    for i in range(0,A.shape[0]): #Degree of node i\n",
    "        for j in range(0,A.shape[0]): #Degree of node j\n",
    "            C[i,j] = B[i,:].sum()*B[:,j].sum() #Fraction presenting the probability node i and j connect\n",
    "    return C/B.sum()\n",
    "\n",
    "def realdelta(c): #delta function\n",
    "    b       = np.array(c)\n",
    "    b.shape = (b.shape[0],1)\n",
    "    new_b   = b.copy()\n",
    "    for i in range(0,b.shape[0]):\n",
    "        if b[i,0] == 0:\n",
    "            new_b = np.concatenate((new_b,np.where(b==0,1,0)),axis=1)\n",
    "        else:\n",
    "            new_b = np.concatenate((new_b,b),axis=1)\n",
    "    return new_b[:,1:]\n",
    "\n",
    "def modularity(A, c):\n",
    "    \"\"\"Compute modularity for a labeled network.\n",
    "    \n",
    "    Input\n",
    "    -----\n",
    "        A : numpy.array\n",
    "            Adjacency matrix. (N, N) square matrix.\n",
    "        c : list of ints\n",
    "            Community labels. Length N.\n",
    "    \n",
    "    Output\n",
    "    ------\n",
    "        out : float\n",
    "    \"\"\"\n",
    "    return np.multiply(realdelta(c),A-kikjd2m(A)).sum()/A.sum()"
   ]
  },
  {
   "cell_type": "code",
   "execution_count": 14,
   "metadata": {},
   "outputs": [
    {
     "name": "stdout",
     "output_type": "stream",
     "text": [
      "Modularity for this partition is =  0.122\n",
      "A looks like:\n"
     ]
    },
    {
     "name": "stderr",
     "output_type": "stream",
     "text": [
      "C:\\Users\\Anders\\AppData\\Local\\Continuum\\anaconda3\\lib\\site-packages\\networkx\\drawing\\nx_pylab.py:579: MatplotlibDeprecationWarning: \n",
      "The iterable function was deprecated in Matplotlib 3.1 and will be removed in 3.3. Use np.iterable instead.\n",
      "  if not cb.iterable(width):\n"
     ]
    },
    {
     "data": {
      "image/png": "[encoded data removed]",
      "text/plain": [
       "<Figure size 432x288 with 1 Axes>"
      ]
     },
     "metadata": {},
     "output_type": "display_data"
    }
   ],
   "source": [
    "print(\"Modularity for this partition is = \",modularity(A,c).round(decimals=3))\n",
    "print(\"A looks like:\")\n",
    "nx.draw_shell(nx.from_numpy_matrix(A), with_labels=True, font_weight='bold')\n"
   ]
  },
  {
   "cell_type": "markdown",
   "metadata": {},
   "source": [
    "> **Ex. 10.2.3**: The example labeling, `c`, was not optimal. Find the optimal one and print its modularity score.\n",
    "\n",
    ">*Hint: Either just try a bunch of different label combinations or visualize the network so you can see what is optimal. Using pen and paper here is no shame.*"
   ]
  },
  {
   "cell_type": "code",
   "execution_count": 15,
   "metadata": {},
   "outputs": [
    {
     "name": "stdout",
     "output_type": "stream",
     "text": [
      "Highest modularity:  0.36\n"
     ]
    }
   ],
   "source": [
    "# We know that the partition c = [1,1,1,0,0,0] from the above graph\n",
    "c1 = [1,1,1,0,0,0]\n",
    "print(\"Highest modularity: \", modularity(A,c1).round(decimals=2))"
   ]
  },
  {
   "cell_type": "markdown",
   "metadata": {},
   "source": [
    "#### Finding the best communities"
   ]
  },
  {
   "cell_type": "markdown",
   "metadata": {},
   "source": [
    "OK, so we are now able to evaluate the quality of a partition. But how do we find the best partition? Modularity gives us a way to measure *how good* our partition is, but it does not tell of how to find the best one. For that we need some sort of algorithm. The *Louvain method* is that algorithm.\n",
    "\n",
    "It works in the following steps:\n",
    "1. Set every node to be its own community (initiate `c = [0, 1, 2, 3, 4, 5]`).\n",
    "2. Compute the modularity.\n",
    "3. Now pick a random node.\n",
    "    1. For every neighbor it has, try giving it the neighbor's label, and compute the change in modularity.\n",
    "    2. If any of those relabelings led to an increase in modularity, choose the relabeling with the greatest increase.\n",
    "4. Repeat 2-3 until modularity ceases to increase for any relabelings."
   ]
  },
  {
   "cell_type": "code",
   "execution_count": 16,
   "metadata": {},
   "outputs": [],
   "source": [
    "def put(array, index, value):\n",
    "    arr_ = array.copy()  # copies array\n",
    "    arr_[index] = value # sets index number equal to value\n",
    "    return arr_ # Returns the copy of the array, where array index equals value\n",
    "\n",
    "def louvain(A, max_iter=100, max_no_improve=10):\n",
    "    \n",
    "    # 1. Setting every node to its own community\n",
    "    N = A.shape[0]\n",
    "    c = [i for i in range(N)]\n",
    "    no_improve = 0\n",
    "    \n",
    "    # 2. Computing modularity\n",
    "    mod = modularity(A, c)\n",
    "    \n",
    "    # Looping over max iterations, looking for the highest modularity\n",
    "    for _ in range(max_iter):\n",
    "        \n",
    "        # Break if there's no improvements in modularity score\n",
    "        if no_improve > max_no_improve:\n",
    "            break\n",
    "            \n",
    "        # Initiating list of changes in modularity\n",
    "        change_mod = []\n",
    "        \n",
    "        # 3. Choose random node\n",
    "        i = np.random.randint(A.shape[0])\n",
    "        \n",
    "        # 3.A. Computing change in modulartiy when changing to every nehgbours' community\n",
    "        js = np.where(A[i,:] == 1)[0]\n",
    "        for j in js:\n",
    "            c_ = c.copy()\n",
    "            mod_new = modularity(A, put(c_,i, j))\n",
    "            change_mod.append(mod_new - mod)\n",
    "            \n",
    "        # 4. If no imporvement, add to sum of iterations without imporvements and return to step 3\n",
    "        if max(change_mod)<=0:\n",
    "            no_improve += 1\n",
    "            continue\n",
    "            \n",
    "        # 3.B. If improvement, choose relabeling with greatest increase\n",
    "        else:\n",
    "            no_improve = 0\n",
    "            j_star = js[np.argmax(change_mod)]\n",
    "            c = put(c, i, c_[j_star])\n",
    "            mod = modularity(A, c)\n",
    "            \n",
    "        return c\n",
    "        "
   ]
  },
  {
   "cell_type": "markdown",
   "metadata": {},
   "source": [
    "> **Ex. 10.2.BONUS**: Implement the Louvain method, and show that it gives the labeling for `A`. A cool portfolio project for your Github account here!"
   ]
  },
  {
   "cell_type": "code",
   "execution_count": 17,
   "metadata": {},
   "outputs": [
    {
     "name": "stdout",
     "output_type": "stream",
     "text": [
      "Community partition found with Louvain: [0, 1, 0, 3, 4, 5]\n",
      "Modularity of the community partition: 0.4\n",
      "\n",
      "Community partition found with by inspecting plot: [1, 1, 1, 0, 0, 0]\n",
      "Modularity of the community partition: 0.36\n"
     ]
    }
   ],
   "source": [
    "c2 = louvain(A)\n",
    "print(f'Community partition found with Louvain: {c2}')\n",
    "print(f'Modularity of the community partition: {round(modularity(A, c2),2)}')\n",
    "print('')\n",
    "print(f'Community partition found with by inspecting plot: {c1}')\n",
    "print(f'Modularity of the community partition: {round(modularity(A, c1),2)}')"
   ]
  },
  {
   "cell_type": "markdown",
   "metadata": {},
   "source": [
    "#### Communication communities on Facebook"
   ]
  },
  {
   "cell_type": "markdown",
   "metadata": {},
   "source": [
    "Now let's work with some real data. Whip out the network you created **last week**, we will be using that again. Apply again the **threshold** you created in **Ex. 9.2.4**."
   ]
  },
  {
   "cell_type": "code",
   "execution_count": 18,
   "metadata": {},
   "outputs": [
    {
     "name": "stdout",
     "output_type": "stream",
     "text": [
      "Number of nodes before thresholding: 44397\n",
      "Number of edges before thresholding: 144224\n",
      "Weight threshold: 1.0\n",
      "Number of nodes after weight thresholding: 44397\n",
      "Number of edges after weight thresholding: 49595\n",
      "\n",
      "Degree threshold: 4.0\n",
      "Number of nodes after curtailing: 6499\n",
      "Number of edges after curtailing: 19065\n"
     ]
    }
   ],
   "source": [
    "# Using the slice function created earlier to slice one year data\n",
    "G1 = slice(data,365) #data from the last year\n",
    "\n",
    "# Thresholding\n",
    "print(f'Number of nodes before thresholding: {len(G1.nodes())}')\n",
    "print(f'Number of edges before thresholding: {len(G1.edges())}')\n",
    "\n",
    "# Removing singletons\n",
    "G1.remove_nodes_from(list(nx.isolates(G1)))\n",
    "\n",
    "# Thresholding on edge weight\n",
    "# I filter the network by edge weight, as edge weight are the number of interatcions\n",
    "#between users. I.e. high edge weight, many interactions and vice versa.\n",
    "weight_list = list(G1.edges.data('weight'))\n",
    "weight = [w for u,v,w in weight_list]\n",
    "weight_threshold = np.percentile(weight, q = 50) \n",
    "# I remove all edges with weight below the average.\n",
    "\n",
    "print(f'Weight threshold: {weight_threshold}')\n",
    "\n",
    "too_low = [(u,v) for u,v,w in weight_list if w <=weight_threshold]\n",
    "G_thr = G1.copy() #Copying G1, such that I can edit the new one and still have the old\n",
    "G_thr.remove_edges_from(too_low)\n",
    "\n",
    "print(f'Number of nodes after weight thresholding: {len(G_thr.nodes())}')\n",
    "print(f'Number of edges after weight thresholding: {len(G_thr.edges())}')\n",
    "\n",
    "# Thresholding on node degree\n",
    "# I use node degree as threshold, since the degree count the number of links the node has to other nodes, \n",
    "# so removing low-degree nodes removes weakly connected nodes\n",
    "deg_dict = dict(G_thr.degree)\n",
    "deg = list(deg_dict.values())\n",
    "\n",
    "threshold = np.percentile(deg, q = 85) # I remove all nodes with degree below the 80th percentile (degree <= 4)\n",
    "\n",
    "print(\"\")\n",
    "print(f'Degree threshold: {threshold}') \n",
    "\n",
    "too_low = {k:v for k, v in  deg_dict.items() if v <= threshold}\n",
    "G_thr.remove_nodes_from(list(too_low.keys()))\n",
    "\n",
    "print(f'Number of nodes after curtailing: {len(G_thr.nodes())}')\n",
    "print(f'Number of edges after curtailing: {len(G_thr.edges())}')"
   ]
  },
  {
   "cell_type": "markdown",
   "metadata": {},
   "source": [
    "> **Ex. 10.2.4**: Find the communities in this networks. Print the number of communities and plot the distribution of community sizes. See something interesting? Comment on this distribution.\n",
    "\n",
    ">*Hint: You're welcome to use your own implementation of the Louvain algorithm (pretty badass if you can), but there's also a widely used Python implementation that you can take off the shelf. Go ahead and install `python-louvain` by running `conda install -c auto python-louvain` in a terminal. After installation, import it with `import community`, and use `community.best_partition` to get a node-community dictionary.*"
   ]
  },
  {
   "cell_type": "code",
   "execution_count": 24,
   "metadata": {},
   "outputs": [],
   "source": [
    "# Computing a node community dict\n",
    "comm_dict = community.best_partition(G_thr)"
   ]
  },
  {
   "cell_type": "code",
   "execution_count": 41,
   "metadata": {},
   "outputs": [
    {
     "name": "stdout",
     "output_type": "stream",
     "text": [
      "Each community is found in the comm_list, and there are  189 communities.\n"
     ]
    },
    {
     "data": {
      "text/plain": [
       "Text(0.5, 1.0, 'Distribution of community sizes in FB Wall Post Network')"
      ]
     },
     "execution_count": 41,
     "metadata": {},
     "output_type": "execute_result"
    },
    {
     "data": {
      "image/png": "[encoded data removed]",
      "text/plain": [
       "<Figure size 720x720 with 1 Axes>"
      ]
     },
     "metadata": {
      "needs_background": "light"
     },
     "output_type": "display_data"
    }
   ],
   "source": [
    "# Counting the number of communities \n",
    "# The values in the dict are the communities\n",
    "comm_list = []\n",
    "for key, comm in comm_dict.items():\n",
    "    comm_list.append(comm)\n",
    "#assumming the largest community number is the number of communities\n",
    "print(\"Each community is found in the comm_list, and there are \",max(comm_list),\"communities.\")\n",
    "    \n",
    "# Counting number of nodes in each community\n",
    "comm_count = Counter(comm_list)\n",
    "comm_count\n",
    "comm, cnt = zip(*comm_count.items())\n",
    "\n",
    "#Plotting the distribution of the community sizes\n",
    "plt.figure(figsize=(10,10))\n",
    "plt.hist(cnt, density=0, bins=50)\n",
    "plt.ylabel('Frequency', size=19)\n",
    "plt.xlabel('Community size', size=19)\n",
    "plt.title('Distribution of community sizes in FB Wall Post Network', size=19)"
   ]
  },
  {
   "cell_type": "markdown",
   "metadata": {},
   "source": [
    "A few communities are very large, while most communities are smaller ones."
   ]
  },
  {
   "cell_type": "markdown",
   "metadata": {},
   "source": [
    "> **Ex. 10.2.5**: Visualize the network, similarly to how you did it last week but this time coloring the nodes by their labels.\n",
    ">\n",
    "> *Hint: [Here](https://netwulf.readthedocs.io/) are the `netwulf` docs. Fiddle around with the layout a little it always makes the network look nicer.*"
   ]
  },
  {
   "cell_type": "code",
   "execution_count": null,
   "metadata": {},
   "outputs": [],
   "source": [
    "# Defining communities as node attributes, which will colour the nodes given their community\n",
    "nx.set_node_attributes(G_thr, comm_dict, 'group')\n",
    "\n",
    "# Visualizing the network in the NetWulf extension\n",
    "nw.visualize(G_thr)\n",
    "\n",
    "#loaded for a while, did not provide output"
   ]
  },
  {
   "cell_type": "markdown",
   "metadata": {},
   "source": [
    "> **Ex. 10.2.6:** Maybe the communities you observed in the previous exercise were not as pretty as you were hoping.\n",
    "Admittedly, the Facebook wallpost network is not the most modular network anyway, but still it examplifies a serious\n",
    "problem with the Modularity score as a utility function for community detection. Can you explain what this problem is,\n",
    "and why it becomes increasingly severe as the network grows larger?\n",
    ">\n",
    "> *Hint: it has something to do with the null model that Modularity uses*."
   ]
  },
  {
   "cell_type": "markdown",
   "metadata": {},
   "source": [
    "> *Final note: there are many other community detection algorithms out there. Check out the [NetworkX docs](https://networkx.github.io/documentation/stable/reference/algorithms/community.html)\n",
    "for some easy-to-use alternatives to Modularity. Also you may want to have a look at [Infomap](https://mapequation.github.io/infomap/python/)\n",
    "especially if you are working with networks where links represent flow (like transactions, exchange, citations, hyperlinks, etc). It usually gives amazing results.*"
   ]
  }
 ],
 "metadata": {
  "kernelspec": {
   "display_name": "Python 3",
   "language": "python",
   "name": "python3"
  },
  "language_info": {
   "codemirror_mode": {
    "name": "ipython",
    "version": 3
   },
   "file_extension": ".py",
   "mimetype": "text/x-python",
   "name": "python",
   "nbconvert_exporter": "python",
   "pygments_lexer": "ipython3",
   "version": "3.7.4"
  },
  "nav_menu": {},
  "toc": {
   "base_numbering": 1,
   "nav_menu": {},
   "number_sections": false,
   "sideBar": true,
   "skip_h1_title": false,
   "title_cell": "Table of Contents",
   "title_sidebar": "Contents",
   "toc_cell": false,
   "toc_position": {},
   "toc_section_display": "block",
   "toc_window_display": true
  },
  "varInspector": {
   "cols": {
    "lenName": 16,
    "lenType": 16,
    "lenVar": 40
   },
   "kernels_config": {
    "python": {
     "delete_cmd_postfix": "",
     "delete_cmd_prefix": "del ",
     "library": "var_list.py",
     "varRefreshCmd": "print(var_dic_list())"
    },
    "r": {
     "delete_cmd_postfix": ") ",
     "delete_cmd_prefix": "rm(",
     "library": "var_list.r",
     "varRefreshCmd": "cat(var_dic_list()) "
    }
   },
   "types_to_exclude": [
    "module",
    "function",
    "builtin_function_or_method",
    "instance",
    "_Feature"
   ],
   "window_display": false
  }
 },
 "nbformat": 4,
 "nbformat_minor": 4
}
