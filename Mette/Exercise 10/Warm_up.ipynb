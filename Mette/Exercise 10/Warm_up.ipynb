{
 "cells": [
  {
   "cell_type": "markdown",
   "metadata": {},
   "source": [
    "### Q1\n",
    "\n",
    "We know that (a, b, c) is a Pythagorean triple: \n",
    "\n",
    "$a^2 + b^2 = c^2 $\n",
    "\n",
    "Considering instead (qa, qb, qc) we get:\n",
    "\n",
    "$qa^2 + qb^2 = qc^2$\n",
    "\n",
    "$ \\Rightarrow q(a^2 + b^2) = q(c^2) $\n",
    "\n",
    "$ \\Rightarrow a^2 + b^2 = c^2 $\n",
    "\n",
    "Showing that multiplication of each element in a Pythagorean triple with a scalar q \\in N also results in a a Pythagorean triple"
   ]
  },
  {
   "cell_type": "code",
   "execution_count": 18,
   "metadata": {
    "scrolled": true
   },
   "outputs": [
    {
     "data": {
      "image/png": "[encoded data removed]",
      "text/plain": [
       "<Figure size 432x288 with 2 Axes>"
      ]
     },
     "metadata": {
      "needs_background": "light"
     },
     "output_type": "display_data"
    }
   ],
   "source": [
    "import numpy as np\n",
    "from matplotlib.patches import Polygon\n",
    "from matplotlib.collections import PatchCollection\n",
    "import matplotlib.pyplot as plt\n",
    "\n",
    "fig, ax = plt.subplots()\n",
    "triangles=[]\n",
    "resolution = 10  # the number of vertices\n",
    "\n",
    "n=2\n",
    "\n",
    "for a in range(n):\n",
    "    a=a\n",
    "    for b in range(n):\n",
    "        b=b\n",
    "        c=np.sqrt(a**2+b**2)\n",
    "        triangle = Polygon([(a, b), (a, c), (b, c)])\n",
    "        triangles.append(triangle)\n",
    "\n",
    "\n",
    "colors = 100*np.random.rand(len(triangles))\n",
    "p = PatchCollection(triangles, alpha=0.4)\n",
    "p.set_array(np.array(colors))\n",
    "ax.add_collection(p)\n",
    "fig.colorbar(p, ax=ax)\n",
    "\n",
    "plt.show()"
   ]
  },
  {
   "cell_type": "markdown",
   "metadata": {},
   "source": [
    "I know I haven't gotten this to work properly but cannot figure out what the reason is"
   ]
  },
  {
   "cell_type": "code",
   "execution_count": null,
   "metadata": {},
   "outputs": [],
   "source": []
  }
 ],
 "metadata": {
  "kernelspec": {
   "display_name": "Python 3",
   "language": "python",
   "name": "python3"
  },
  "language_info": {
   "codemirror_mode": {
    "name": "ipython",
    "version": 3
   },
   "file_extension": ".py",
   "mimetype": "text/x-python",
   "name": "python",
   "nbconvert_exporter": "python",
   "pygments_lexer": "ipython3",
   "version": "3.7.4"
  }
 },
 "nbformat": 4,
 "nbformat_minor": 2
}
