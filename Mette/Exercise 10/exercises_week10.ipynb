{
 "cells": [
  {
   "cell_type": "markdown",
   "metadata": {},
   "source": [
    "# Week 10: Networks 2\n"
   ]
  },
  {
   "cell_type": "markdown",
   "metadata": {
    "ExecuteTime": {
     "end_time": "2017-08-23T15:30:03.634114Z",
     "start_time": "2017-08-23T15:30:03.629294Z"
    }
   },
   "source": [
    "Networks are mathematical representations of complex systems. We can use networks to gain various statistical insight about the system we're representing, and we can look for patterns at the meso-scale by employing *community detection* algorithms. This week we will explore the following:\n",
    "\n",
    "* Network null models\n",
    "* How to use a null model to infer the p-value of a result\n",
    "* How a popular community detection algorithm works (and fails)"
   ]
  },
  {
   "cell_type": "markdown",
   "metadata": {},
   "source": [
    "**Questions**: Outside of class, use [issue on GitHub](https://github.com/abjer/tsds/issues) for asking questions."
   ]
  },
  {
   "cell_type": "markdown",
   "metadata": {},
   "source": [
    "## Imports"
   ]
  },
  {
   "cell_type": "code",
   "execution_count": 1,
   "metadata": {
    "ExecuteTime": {
     "end_time": "2019-03-12T10:56:27.700322Z",
     "start_time": "2019-03-12T10:56:27.695950Z"
    }
   },
   "outputs": [],
   "source": [
    "%matplotlib inline\n",
    "import matplotlib.pylab as plt\n",
    "import networkx as nx           # `pip install networkx`\n",
    "import json\n",
    "from collections import Counter\n",
    "import community                # `pip install python-louvain` or `conda install -c auto python-louvain`"
   ]
  },
  {
   "cell_type": "markdown",
   "metadata": {},
   "source": [
    "## Exercises"
   ]
  },
  {
   "cell_type": "markdown",
   "metadata": {},
   "source": [
    "### Part 1: Network null models"
   ]
  },
  {
   "cell_type": "markdown",
   "metadata": {},
   "source": [
    "**What is a null model?** Null models are alternative instances of data, that are used to assess the amount of signal that is due to pure randomness. For example, you might have\n",
    "measured some signal in your data, like a large number of triangles (high average local clustering coefficient)\n",
    "in your network, but before you go and report that to your boss you need to answer one crucial question: how does\n",
    "this result compare with a *random* one? In other words, how can you be so sure that this high number of triangles\n",
    "measured is not perfectly normal even in a random network of similar origin and therefore not very special after all? The answer: **you\n",
    "create a null model to compare your result with!**\n",
    "\n",
    "> Note: null models are a concept from the general field of statistics and therefore not just specific to\n",
    "networks. You can use this statistical tool anytime you need to assess how likely it is that your result is random.\n",
    "\n",
    "The most common type of null model is one where you shuffle links in your network, while preserving the degree\n",
    "sequence. *(Recall, that the degree sequence is a list that stores the degree of each node. So if we shuffle and\n",
    "preserve the degree sequence at the same time, it means that after all the link-shuffling is done, nodes will\n",
    "have new neighbors, but the same number of neighbors)*. In this shuffled network (the null model), if you find that\n",
    "there are far fewer triangles than in your real data then you can start to argue that your result is significant.\n",
    "\n",
    "> Note: the term *null model* is a slight misnomer, as it is not a model per se, but rather an instance of the\n",
    "data that is permuted in some way (usually under constraints, such as preservation of degree sequence), so it can\n",
    "be taken to represent *randomness*. As such, there is no *model*, but rather an *instance* or simply *data*.\n",
    "\n",
    "But that is just one comparison. What if the number of triangles in the random data–the null model–is smaller, but\n",
    "not that much smaller? Can you still say your result is significant? Well, the trick (although computationally expensive\n",
    "as you will come to learn) is to do MANY comparisons. 1000 is not a bad start. For each comparison, you check if\n",
    "the number of triangles in your real data is bigger. After you have compared one thousand times you compute **the\n",
    "fraction of times** your number of triangles in the real data was bigger than in the random data. Guess what that\n",
    "number (between 0 and 1) is called? **The p-value**. And what does it communicate? **The probability that your result\n",
    "is random!**\n",
    "\n",
    "^ That's some useful statistics right there!\n",
    "\n",
    "Please make sure you have **READ AND UNDERSTOOD** the above, as you will otherwise have a very hard time completing the\n",
    "following exercises."
   ]
  },
  {
   "cell_type": "markdown",
   "metadata": {},
   "source": [
    "**Ex. 10.1.1**: The method described above works for anything you might want to measure in a network. Let's say,\n",
    "instead of measuring the number of triangles, you measured the network diameter. Explain in your own words how to\n",
    "assess the statistical significance (the p-value) of such a measurement, using the same null model."
   ]
  },
  {
   "cell_type": "markdown",
   "metadata": {},
   "source": [
    "### Answer 10.1.1\n",
    "\n",
    "Before computing the p-value I will decide on a significance level at which I will evaluate whether the pattern found in the real data is \"significantly\" different from a random one. \n",
    "\n",
    "In econometrics, one often uses a significance level of 5%, so I would use that as well when producing 1000 null models.\n",
    "\n",
    "The relevant statistics to compute is then the distance between the network diameter in the real data and the 1000 null models.\n",
    "The H0 in this particular case is that the network diameter in the real data is random.\n",
    "If the p-value is below 5% we wold reject the null and say that the observed pattern is not random at a 5% significance level."
   ]
  },
  {
   "cell_type": "markdown",
   "metadata": {},
   "source": [
    "**Ex. 10.1.2**: The null model described above rewires a network while preserving the degree distribution. [Here](https://networkx.github.io/documentation/stable/reference/algorithms/generated/networkx.algorithms.swap.double_edge_swap.html#networkx.algorithms.swap.double_edge_swap) is\n",
    "implementation of it in NetworkX. In your own words, describe:\n",
    "1. how it works and why it achieves randomness\n",
    "without changing the degree distribution.\n",
    "2. Also describe what can sometimes happen and why the desired number of swaps `nswaps` is only an upper-bound on\n",
    "the number of swaps."
   ]
  },
  {
   "cell_type": "markdown",
   "metadata": {},
   "source": [
    "### Answer 10.1.2\n",
    "\n",
    "1) This works beacuse reshuffling the links is possible without changing the degree seqence, as we will then be able to make sure that each node has the same number of neighbors albeit not necessearily the same ones.\n",
    "\n",
    "2) While doing the reshuffling the implementation in NetworkX may encounter a problem of not being able to find the appropriate number of neighbors. To ensure that the command does not fail there is an option of specifying a max number of swaps to make sure that the entire procedure does not crash while trying to find an impossible swap\n"
   ]
  },
  {
   "cell_type": "markdown",
   "metadata": {},
   "source": [
    "**Ex. 10.1.3**: Load the Facebook wall-post network from last week, into a `networkx.Graph` object called `G`.\n",
    "1. Measure the average local clustering coefficient (ALCC) of `G`. Print it.\n",
    "2. Over 1000 iterations, measure the ALCC for `G` where, in each iteration, you have made 1000 edge swaps using \n",
    "`double_edge_swap`. Append the measured ALCC values to a list. Print the average of this list. *Note: this will\n",
    "obviously take some time**.\n",
    "3. Report the p-value of your result, the ALCC of the real data.\n",
    "4. Make a histogram that displays the distribution of ALCC values in the null models as a histogram as well as\n",
    "the ALCC of the real data as a vertical line. Comment on this result. Does it make sense?"
   ]
  },
  {
   "cell_type": "code",
   "execution_count": null,
   "metadata": {},
   "outputs": [],
   "source": [
    "# Read data\n",
    "import pandas as pd\n",
    "\n",
    "data = pd.read_csv(\n",
    "    \"facebook-wall.txt\",\n",
    "    delimiter=\"\\t\",\n",
    "    header=None,\n",
    "    names=['user1', 'user2', 'timestamp']\n",
    ")"
   ]
  },
  {
   "cell_type": "code",
   "execution_count": null,
   "metadata": {},
   "outputs": [],
   "source": [
    "# Create a nx.Graph from this dataframe\n",
    "G= nx.from_pandas_edgelist(data, 'user1', 'user2', create_using=nx.Graph)\n",
    "\n",
    "#1)\n",
    "TRUE_ALCC=nx.average_clustering(G)\n",
    "TRUE_ALCC"
   ]
  },
  {
   "cell_type": "code",
   "execution_count": null,
   "metadata": {},
   "outputs": [],
   "source": [
    "#2) \n",
    "\n",
    "from tqdm import tqdm\n",
    "ALCC=[]\n",
    "\n",
    "for x in tqdm(range(1000)):\n",
    "    G_=G.copy()\n",
    "    G_=nx.double_edge_swap(G_, nswap=1000, max_tries=5000)\n",
    "    alcc=nx.average_clustering(G_)\n",
    "    ALCC.append(alcc)\n",
    "     \n",
    "    "
   ]
  },
  {
   "cell_type": "code",
   "execution_count": null,
   "metadata": {},
   "outputs": [],
   "source": [
    "#3) compute p\n",
    "\n",
    "count_equal_to_true=sum(1 for x in ALCC if x==TRUE_ALCC)\n",
    "p=count_equal_to_true/len(ALCC)\n",
    "\n",
    "print(\"True ALCC: \" + str(TRUE_ALCC))\n",
    "\n",
    "print(\"p (share of null models with ALCC equal to the true ALCC): \" + str(p))\n",
    "\n",
    "# Would it make more sense to compute the number of null models within a range of the true value?\n",
    "# I know it wouldn't really make a difference in this particular case, but in general,\n",
    "# would it then be a better approach to evaluate if the pattern in the real data is random?\n",
    "# Especially, as a metric such as the ALCC is computed with so many decimals..."
   ]
  },
  {
   "cell_type": "code",
   "execution_count": null,
   "metadata": {},
   "outputs": [],
   "source": [
    "# 4) Plot distribution\n",
    "import seaborn as sns\n",
    "import numpy as np\n",
    "\n",
    "sns.set_style(\"whitegrid\")\n",
    "g=sns.distplot(ALCC)\n",
    "plt.xlabel(\"Distribution of ALCC in null models\", fontsize=\"large\")\n",
    "plt.axvline(x=TRUE_ALCC, color=\"green\", label=\"True ALCC\")\n",
    "plt.legend(loc=\"upper right\")"
   ]
  },
  {
   "cell_type": "markdown",
   "metadata": {},
   "source": [
    "4) cnt'd\n",
    "\n",
    "In this case the true ALCC is fra greater than what we observe in the random null models, which leads us to conclude that the pattern of clustering in the real data is not due to randomness"
   ]
  },
  {
   "cell_type": "markdown",
   "metadata": {},
   "source": [
    "### Part 2: Community detection"
   ]
  },
  {
   "cell_type": "markdown",
   "metadata": {},
   "source": [
    "Communities are little lumps of nodes in a network that are unusually strongly connected. Your family is a community, and your friend group from work or university is another community. While there is no one true definition of what a community is, there are many many different methods and algorithms for finding them. Here we will work with one of the most popular ones: [Louvain Modularity](https://en.wikipedia.org/wiki/Louvain_Modularity). The following exercises will walk you through the fundamentals of this method, and finally have you apply it to the network you used last week."
   ]
  },
  {
   "cell_type": "markdown",
   "metadata": {},
   "source": [
    "#### The modularity function"
   ]
  },
  {
   "cell_type": "markdown",
   "metadata": {},
   "source": [
    "> **Ex. 10.2.1**: Assume you have a network where nodes and links tend to form lumps here and there. Imagine you now reach for your pen, and start labeling these nodes with group names (or ids) that feel appropriate according to how they are lumped together. If your partition is \"good\", nodes that are connected in groups should intuitively have the same label, while nodes that are distant and disconnected should have different labels. Modularity is a function that can be used to measure, by this logic, *how good* your partition is. It is in technical terms a *utility function*, and it looks like this:\n",
    "> <br><br>\n",
    "> $$ Q = \\dfrac{1}{2m}\\sum_{ij}{\\left[A_{ij}-\\dfrac{k_ik_j}{2m}\\right]\\delta(c_i, c_j)}.$$\n",
    "> <br>\n",
    "> Your job in this problem is to explain this equation. When I look at daunting math I find it calming to try and read it as if it were code. Since all math can be implemented in code, all math can be broken into parts, where each part does a seperate thing. Answer each question below seperately:\n",
    "\n",
    "\n",
    "1. In code, a sum, $\\sum$, is like a `for` loop, where in every iteration you increment a variable. In the equation for modularity the little $ij$ subscript tells is what the sum is looping over (like `for ij in sumloop`). But what is $ij$?\n",
    "\n",
    "Answer: i and j are nodes in the network. Thus, ij are node pairs. The summation tells us that we sum over all node pairs in the network\n",
    "\n",
    "\n",
    "2. In each iteration of the sum, the delta function $\\delta(c_i, c_j)$ is used, where $c_i$ is the community label of node $i$. The delta function is a very simple program that returns 0 if the two input values are different and 1 if they are they same. How would you implement the delta function in code? What is it used for in the modularity equation?\n",
    "\n",
    "Answer: I would code up a separate function returning 1 if $c_i==c_j$. \n",
    "In the equation it has the property of discarding node pairs that are not in the same community \n",
    "\n",
    "3. Inside the sum we use the term $\\frac{k_ik_j}{2m}$ as our *null model*. $k$ is the degree sequence (so $k_i$ is the degree of node $i$) and $m$ is the sum of all link weights. Explain what this null model measures. Could we have used other null models?\n",
    "\n",
    "Answer: $k_ik_j$ is the number of ways in which node i and j can connect. This expression is then normalised by m to yield our null model $\\frac{k_ik_j}{2m}$, which expresses the expected weight between node i and j in a random network with a similar degree. \n",
    "\n",
    "4. The sum subtracts the null model from $A_{ij}$ and adds the result to its final value if the delta function evaluates to 1. What is the point of only summing over this difference when the delta function is 1?\n",
    "\n",
    "Answer: The term in the brackets allows us to get an impression of how the edge weights in the actual network differs from those of a random network. As we only want to assess connectivity within each community we only sum over nodes that are in the same community. \n",
    "\n",
    "5. The sum term is normalized by $2m$. Why exactly $2m$?\n",
    "\n",
    "Answer: This is a way of scaling by the possible number of connections in the network.\n",
    "\n",
    "6. Summarize your insight gained from answering the above questions. In your own words, explain how the modularity function works. Use 1-3 sentences.\n",
    "\n",
    "Answer: The function works by constructing a measure that allows for a comparison of the differences in connectivity between nodes in the actual network and those of a random one with a similar degree. "
   ]
  },
  {
   "cell_type": "markdown",
   "metadata": {},
   "source": [
    "> **Ex. 10.2.2**: Implement the modularity function. Write a Python function that takes as input an adjacency matrix and a label vector, and returns the modularity. Compute and print the modularity for the ones given below. The correct result is 0.122."
   ]
  },
  {
   "cell_type": "code",
   "execution_count": 2,
   "metadata": {
    "ExecuteTime": {
     "end_time": "2019-03-12T10:27:43.909671Z",
     "start_time": "2019-03-12T10:27:43.900257Z"
    }
   },
   "outputs": [],
   "source": [
    "import numpy as np\n",
    "\n",
    "A = np.array([\n",
    "    [0, 1, 1, 0, 0, 0],\n",
    "    [1, 0, 1, 0, 0, 0],\n",
    "    [1, 1, 0, 1, 0, 0],\n",
    "    [0, 0, 1, 0, 1, 1],\n",
    "    [0, 0, 0, 1, 0, 1],\n",
    "    [0, 0, 0, 1, 1, 0],\n",
    "])\n",
    "\n",
    "c = [0, 0, 0, 0, 1, 1]\n",
    "\n",
    "def delta(ci, cj):\n",
    "    if ci==cj:\n",
    "        return 1\n",
    "    else:\n",
    "        return 0\n",
    "\n",
    "def modularity(A, c):\n",
    "    \"\"\"Compute modularity for a labeled network.\n",
    "    \n",
    "    Input\n",
    "    -----\n",
    "        A : numpy.array\n",
    "            Adjacency matrix. (N, N) square matrix.\n",
    "        c : list of ints\n",
    "            Community labels. Length N.\n",
    "    \n",
    "    Output\n",
    "    ------\n",
    "        out : float\n",
    "    \"\"\"\n",
    "    n = A.shape[0] # Matrix is symmetric\n",
    "    Q = 0\n",
    "    m = A.sum() / 2\n",
    "    for i in range(n):\n",
    "        ki = A[i,:].sum()\n",
    "        for j in range(n):\n",
    "            kj = A[:,j].sum()\n",
    "            Q += (A[i,j] - ki*kj/(2*m)) * delta(c[i], c[j])\n",
    "    return Q/(2*m)"
   ]
  },
  {
   "cell_type": "code",
   "execution_count": 3,
   "metadata": {},
   "outputs": [
    {
     "data": {
      "text/plain": [
       "0.12244897959183675"
      ]
     },
     "execution_count": 3,
     "metadata": {},
     "output_type": "execute_result"
    }
   ],
   "source": [
    "modularity(A, c)"
   ]
  },
  {
   "cell_type": "markdown",
   "metadata": {},
   "source": [
    "> **Ex. 10.2.3**: The example labeling, `c`, was not optimal. Find the optimal one and print its modularity score.\n",
    "\n",
    ">*Hint: Either just try a bunch of different label combinations or visualize the network so you can see what is optimal. Using pen and paper here is no shame.*"
   ]
  },
  {
   "cell_type": "markdown",
   "metadata": {},
   "source": [
    "#### Finding the best communities"
   ]
  },
  {
   "cell_type": "markdown",
   "metadata": {},
   "source": [
    "OK, so we are now able to evaluate the quality of a partition. But how do we find the best partition? Modularity gives us a way to measure *how good* our partition is, but it does not tell of how to find the best one. For that we need some sort of algorithm. The *Louvain method* is that algorithm.\n",
    "\n",
    "It works in the following steps:\n",
    "1. Set every node to be its own community (initiate `c = [0, 1, 2, 3, 4, 5]`).\n",
    "2. Compute the modularity.\n",
    "3. Now pick a random node.\n",
    "    1. For every neighbor it has, try giving it the neighbor's label, and compute the change in modularity.\n",
    "    2. If any of those relabelings led to an increase in modularity, choose the relabeling with the greatest increase.\n",
    "4. Repeat 2-3 until modularity ceases to increase for any relabelings."
   ]
  },
  {
   "cell_type": "code",
   "execution_count": 4,
   "metadata": {},
   "outputs": [],
   "source": [
    "def put(array, index, value):\n",
    "    _arr = array.copy()\n",
    "    _arr[index] = value\n",
    "    return _arr\n",
    "\n",
    "def louvain(A, max_iter = 50, k = 10):\n",
    "    # 1) -2) set starting values and compute starting modularity\n",
    "    c = np.arange(A.shape[0])\n",
    "    Q = modularity(A,c)\n",
    "    noimp = 0\n",
    "    \n",
    "    # Specify that we only want the function to continue its iterative process as long as there is a significant improvement in its partition\n",
    "    for _ in range(max_iter):\n",
    "        if noimp > k:\n",
    "            break\n",
    "        \n",
    "        #3) Pick random note\n",
    "        i = np.random.randint(A.shape[0])\n",
    "        #3a) for all neighbors compute change in modularity when changing label of i to that of neighbor j\n",
    "        js = np.where(A[i, :] == 1)[0]\n",
    "        delta_Qs = [modularity(A, put(c, i, c[j])) - Q for j in js]\n",
    "    \n",
    "        #3b) choose labelling with greatest increase in modularity (if any)\n",
    "        if max(delta_Qs) <= 0:\n",
    "            noimp += 1\n",
    "            continue\n",
    "        \n",
    "        else:\n",
    "            noimp = 0\n",
    "            j_star = js[np.argmax(delta_Qs)]\n",
    "            c = put(c, i, c[j_star])\n",
    "            old_Q = Q\n",
    "            Q = modularity(A, c)\n",
    "    \n",
    "    return c"
   ]
  },
  {
   "cell_type": "code",
   "execution_count": 5,
   "metadata": {},
   "outputs": [
    {
     "data": {
      "text/plain": [
       "array([1, 1, 1, 5, 5, 5])"
      ]
     },
     "execution_count": 5,
     "metadata": {},
     "output_type": "execute_result"
    }
   ],
   "source": [
    "louvain(A)"
   ]
  },
  {
   "cell_type": "markdown",
   "metadata": {},
   "source": [
    "Admittedly, for this part I just used your code. I am just not sure I understand the usefulness of the put-function. The outcome when I call the louvain(A)-function still keeps alternating between:\n",
    "\n",
    "array([1, 1, 1, 5, 5, 5])\n",
    "\n",
    "and\n",
    "\n",
    "array([0, 0, 0, 4, 4, 4])\n",
    "\n",
    "Why is this the case?"
   ]
  },
  {
   "cell_type": "markdown",
   "metadata": {},
   "source": [
    "> **Ex. 10.2.BONUS**: Implement the Louvain method, and show that it gives the labeling for `A`. A cool portfolio project for your Github account here!"
   ]
  },
  {
   "cell_type": "markdown",
   "metadata": {},
   "source": [
    "#### Communication communities on Facebook"
   ]
  },
  {
   "cell_type": "markdown",
   "metadata": {},
   "source": [
    "Now let's work with some real data. Whip out the network you created **last week**, we will be using that again. Apply again the **threshold** you created in **Ex. 9.2.4**."
   ]
  },
  {
   "cell_type": "markdown",
   "metadata": {},
   "source": [
    "> **Ex. 10.2.4**: Find the communities in this networks. Print the number of communities and plot the distribution of community sizes. See something interesting? Comment on this distribution.\n",
    "\n",
    ">*Hint: You're welcome to use your own implementation of the Louvain algorithm (pretty badass if you can), but there's also a widely used Python implementation that you can take off the shelf. Go ahead and install `python-louvain` by running `conda install -c auto python-louvain` in a terminal. After installation, import it with `import community`, and use `community.best_partition` to get a node-community dictionary.*"
   ]
  },
  {
   "cell_type": "code",
   "execution_count": 6,
   "metadata": {},
   "outputs": [],
   "source": [
    "import pandas as pd\n",
    "\n",
    "data = pd.read_csv(\n",
    "    \"facebook-wall.txt\",\n",
    "    delimiter=\"\\t\",\n",
    "    header=None,\n",
    "    names=['user1', 'user2', 'timestamp']\n",
    ")\n",
    "\n",
    "\n",
    "#I implement same function as last week but create an undirected graph as the python-louvain function doesn't work well with directed graphs\n",
    "def undirectedGraph(t0, t1):\n",
    "    data_t = data.loc[data.timestamp.between(t0, t1)]\n",
    "    data_t = data_t.groupby(['user1', 'user2']).size().reset_index(name='weight')\n",
    "    G_t = nx.from_pandas_edgelist(data_t, 'user1', 'user2', 'weight', create_using=nx.Graph)\n",
    "    return G_t\n",
    "\n",
    "t0 = data.timestamp.max() - 86400 * 10  # Lower bound of time-slice (here: 10 days before last wall post)\n",
    "t1 = data.timestamp.max()              # Upper bound of time-slice\n",
    "\n",
    "DG10 = undirectedGraph(t0, t1)"
   ]
  },
  {
   "cell_type": "code",
   "execution_count": 7,
   "metadata": {},
   "outputs": [],
   "source": [
    "import community\n",
    "\n",
    "partition=community.best_partition(DG10)\n",
    "\n",
    "cluster, counts = zip(*Counter(partition.values()).items())"
   ]
  },
  {
   "cell_type": "code",
   "execution_count": 9,
   "metadata": {},
   "outputs": [
    {
     "data": {
      "text/plain": [
       "[<matplotlib.lines.Line2D at 0x20ae8905c88>]"
      ]
     },
     "execution_count": 9,
     "metadata": {},
     "output_type": "execute_result"
    },
    {
     "data": {
      "image/png": "[encoded data removed]",
      "text/plain": [
       "<Figure size 432x288 with 1 Axes>"
      ]
     },
     "metadata": {
      "needs_background": "light"
     },
     "output_type": "display_data"
    }
   ],
   "source": [
    "#Plot distribution\n",
    "\n",
    "plt.plot(sorted(counts, reverse = True), 'o')\n"
   ]
  },
  {
   "cell_type": "markdown",
   "metadata": {},
   "source": [
    "The distribution of nodes per cluster is highly skewed"
   ]
  },
  {
   "cell_type": "markdown",
   "metadata": {},
   "source": [
    "> **Ex. 10.2.5**: Visualize the network, similarly to how you did it last week but this time coloring the nodes by their labels.\n",
    ">\n",
    "> *Hint: [Here](https://netwulf.readthedocs.io/) are the `netwulf` docs. Fiddle around with the layout a little it always makes the network look nicer.*"
   ]
  },
  {
   "cell_type": "markdown",
   "metadata": {},
   "source": [
    "### Answer\n",
    "\n",
    "Unfortunately, I cannot get netwulf to work properly"
   ]
  },
  {
   "cell_type": "markdown",
   "metadata": {},
   "source": [
    "> **Ex. 10.2.6:** Maybe the communities you observed in the previous exercise were not as pretty as you were hoping.\n",
    "Admittedly, the Facebook wallpost network is not the most modular network anyway, but still it examplifies a serious\n",
    "problem with the Modularity score as a utility function for community detection. Can you explain what this problem is,\n",
    "and why it becomes increasingly severe as the network grows larger?\n",
    ">\n",
    "> *Hint: it has something to do with the null model that Modularity uses*."
   ]
  },
  {
   "cell_type": "markdown",
   "metadata": {},
   "source": [
    "### Answer\n",
    "\n",
    "This is a bit difficult to comment on myself, when I couldn't get the visualization to work...\n",
    "\n",
    "But I have read your answer to the question and understand that it is related to the degree preserving property of the null model, which can be prolematic when the connectivity is limited"
   ]
  },
  {
   "cell_type": "markdown",
   "metadata": {},
   "source": [
    "> *Final note: there are many other community detection algorithms out there. Check out the [NetworkX docs](https://networkx.github.io/documentation/stable/reference/algorithms/community.html)\n",
    "for some easy-to-use alternatives to Modularity. Also you may want to have a look at [Infomap](https://mapequation.github.io/infomap/python/)\n",
    "especially if you are working with networks where links represent flow (like transactions, exchange, citations, hyperlinks, etc). It usually gives amazing results.*"
   ]
  }
 ],
 "metadata": {
  "kernelspec": {
   "display_name": "Python 3",
   "language": "python",
   "name": "python3"
  },
  "language_info": {
   "codemirror_mode": {
    "name": "ipython",
    "version": 3
   },
   "file_extension": ".py",
   "mimetype": "text/x-python",
   "name": "python",
   "nbconvert_exporter": "python",
   "pygments_lexer": "ipython3",
   "version": "3.7.4"
  },
  "nav_menu": {},
  "toc": {
   "base_numbering": 1,
   "nav_menu": {},
   "number_sections": false,
   "sideBar": true,
   "skip_h1_title": false,
   "title_cell": "Table of Contents",
   "title_sidebar": "Contents",
   "toc_cell": false,
   "toc_position": {},
   "toc_section_display": "block",
   "toc_window_display": true
  },
  "varInspector": {
   "cols": {
    "lenName": 16,
    "lenType": 16,
    "lenVar": 40
   },
   "kernels_config": {
    "python": {
     "delete_cmd_postfix": "",
     "delete_cmd_prefix": "del ",
     "library": "var_list.py",
     "varRefreshCmd": "print(var_dic_list())"
    },
    "r": {
     "delete_cmd_postfix": ") ",
     "delete_cmd_prefix": "rm(",
     "library": "var_list.r",
     "varRefreshCmd": "cat(var_dic_list()) "
    }
   },
   "types_to_exclude": [
    "module",
    "function",
    "builtin_function_or_method",
    "instance",
    "_Feature"
   ],
   "window_display": false
  }
 },
 "nbformat": 4,
 "nbformat_minor": 2
}
