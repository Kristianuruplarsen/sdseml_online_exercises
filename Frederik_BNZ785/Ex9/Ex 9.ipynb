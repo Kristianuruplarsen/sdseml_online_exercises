{
 "cells": [
  {
   "cell_type": "markdown",
   "metadata": {},
   "source": [
    "# Week 9: Networks 1\n"
   ]
  },
  {
   "cell_type": "markdown",
   "metadata": {
    "ExecuteTime": {
     "end_time": "2017-08-23T15:30:03.634114Z",
     "start_time": "2017-08-23T15:30:03.629294Z"
    }
   },
   "source": [
    "A network is a way to represent a system of things that interact or are interrelated in some fashion. It could just be your facebook network, that's obvious, but a network can also represent the interaction patterns of proteins in the human body, who votes what on whose bill in the US Senate, the mutually attractive forces between galaxies in the universe or just about anything else that you can possibly imagine. This week we will get started on some of the fundamental concepts, and then look closer at some Facebook data. In the exercises today you will:\n",
    "\n",
    "* Get warmed up to thinking about systems as networks\n",
    "* Learn to use the `NetworkX` library\n",
    "* Explore a Facebook network"
   ]
  },
  {
   "cell_type": "markdown",
   "metadata": {},
   "source": [
    "# Lecture"
   ]
  },
  {
   "cell_type": "code",
   "execution_count": 49,
   "metadata": {},
   "outputs": [],
   "source": [
    "from scipy import integrate\n",
    "from numpy import log, linspace\n",
    "import matplotlib.pyplot as plt\n",
    "import seaborn as sns\n",
    "def Integrate(f, a, b):\n",
    "    I, _ = integrate.quad(f, a, b)\n",
    "    return I\n",
    "func=lambda t: 1/log(t)\n",
    "n=range(10,10**10,100000000)\n",
    "val=[]\n",
    "for i in n:\n",
    "    val.append(Integrate(func,2,i))"
   ]
  },
  {
   "cell_type": "code",
   "execution_count": 47,
   "metadata": {},
   "outputs": [
    {
     "data": {
      "text/plain": [
       "[<matplotlib.lines.Line2D at 0x2b7c2e6ffc8>]"
      ]
     },
     "execution_count": 47,
     "metadata": {},
     "output_type": "execute_result"
    },
    {
     "data": {
      "image/png": "[encoded data removed]",
      "text/plain": [
       "<Figure size 432x288 with 1 Axes>"
      ]
     },
     "metadata": {
      "needs_background": "light"
     },
     "output_type": "display_data"
    }
   ],
   "source": [
    "plt.plot(n,val)\n",
    " "
   ]
  },
  {
   "cell_type": "code",
   "execution_count": 95,
   "metadata": {},
   "outputs": [
    {
     "data": {
      "text/html": [
       "\n",
       "    <div align=\"middle\">\n",
       "    <video width=\"50%\" controls>\n",
       "      <source src=\"https://www.dropbox.com/s/43ya0a9jmaa6exk/slides_week9_mov.m4v?raw=1\" type=\"video/mp4\">\n",
       "    </video></div>"
      ],
      "text/plain": [
       "<IPython.core.display.HTML object>"
      ]
     },
     "execution_count": 95,
     "metadata": {},
     "output_type": "execute_result"
    }
   ],
   "source": [
    "# ----------------- !\n",
    "# Execute this cell !\n",
    "# ----------------- !\n",
    "\n",
    "from IPython.display import HTML\n",
    "\n",
    "def video_html(url):\n",
    "    return f\"\"\"\n",
    "    <div align=\"middle\">\n",
    "    <video width=\"50%\" controls>\n",
    "      <source src=\"{url}\" type=\"video/mp4\">\n",
    "    </video></div>\"\"\"\n",
    "\n",
    "HTML(video_html('https://www.dropbox.com/s/43ya0a9jmaa6exk/slides_week9_mov.m4v?raw=1'))"
   ]
  },
  {
   "cell_type": "markdown",
   "metadata": {},
   "source": [
    "## Imports"
   ]
  },
  {
   "cell_type": "code",
   "execution_count": 52,
   "metadata": {
    "ExecuteTime": {
     "end_time": "2019-03-04T09:34:30.600550Z",
     "start_time": "2019-03-04T09:34:29.054864Z"
    }
   },
   "outputs": [],
   "source": [
    "%matplotlib inline\n",
    "import matplotlib.pylab as plt\n",
    "import networkx as nx           # pip install networkx\n",
    "import pandas as pd\n",
    "from collections import Counter\n",
    "from netwulf import visualize   # pip install netwulf"
   ]
  },
  {
   "cell_type": "markdown",
   "metadata": {},
   "source": [
    "## Exercises"
   ]
  },
  {
   "cell_type": "markdown",
   "metadata": {},
   "source": [
    "### Part 0: Networks"
   ]
  },
  {
   "cell_type": "markdown",
   "metadata": {},
   "source": [
    "Questions for chapter 1 and 2 of [Network Science](http://barabasi.com/networksciencebook/)."
   ]
  },
  {
   "cell_type": "markdown",
   "metadata": {},
   "source": [
    "> **Ex. 5.0.1**: List three different real networks and state the nodes and links for each of them.\n",
    "\n",
    "1. Neural network. Nodes: Neurons. Links: Synapses/Gradients\n",
    "2. Train routes. Nodes: Stations. Links: Railways\n",
    "3. Electrical networks. Nodes: Relays & Generators. Links: Electric cables"
   ]
  },
  {
   "cell_type": "markdown",
   "metadata": {},
   "source": [
    "> **Ex. 5.0.2**: What networks are you personally most interested in. Address the following questions:\n",
    "\n",
    "> *Train routes (not really what im most interested, just couldn't think of one)* \n",
    ">   * What are its nodes and links? \n",
    "The nodes are the stations, to which the trains travel along the edges/vertices/links, that are the railways\n",
    ">   * How large is it? \n",
    "Changes depending on the city, however as the city grows so does it\n",
    ">   * Can be mapped out? \n",
    "Every metro map in every city is technically a mapping of the network\n",
    ">   * Why do you care about it? \n",
    "Well not really - just had to write about something"
   ]
  },
  {
   "cell_type": "markdown",
   "metadata": {},
   "source": [
    "> **Ex. 5.0.3**: In your view what would be the area where network science could have the biggest impact in the next decade? Explain your answer - and base it on the text in the book. \n",
    "\n",
    "The text has multiple examples, however the one i found to be most interesting was the fact that some health companies use networks to identify targets in bacteria and humans, and using this data create\n",
    "targeted medicine. If this could theoretically work it would be something of a game changer in medicine - and thus impacting society as a whole much more directly than in impacts in other areas"
   ]
  },
  {
   "cell_type": "markdown",
   "metadata": {},
   "source": [
    "> **Ex. 5.0.4**: Section 2.5 states that real networks are sparse. Can you think of a real network where each node has *many* connections? Is that network still sparse? If yes, can you explain why?\n",
    "\n",
    "My first thought would be something like Facebook, where the nodes would then be individual profiles and links whether someone is a \"friend\" or technically any kind of connection that can be made on the \n",
    "platform. Every profile has a certain amount of friends, difering from person to person, creating tons of interconnecting links. However the if the definition of sparse is when a network does not use\n",
    "every possible link, it could be argued that for Facebook or other social medias not to be sparse, everyone would have to be friend with literally everyone to maximize the amount of links. From this definition, social networks would also be sparse"
   ]
  },
  {
   "cell_type": "markdown",
   "metadata": {},
   "source": [
    "### Part 1: The `NetworkX` library"
   ]
  },
  {
   "cell_type": "markdown",
   "metadata": {},
   "source": [
    "`NetworkX` is the Python library we will be using for working with networks. It should come installed with your Anaconda distribution, but you wont know how to use it yet. The best way to get familiar is to work through a tutorial. That's what the following exercises are about."
   ]
  },
  {
   "cell_type": "markdown",
   "metadata": {},
   "source": [
    "> **Ex. 5.1.1**: Go to the `NetworkX` project's [tutorial page](https://networkx.github.io/documentation/stable/tutorial/index.html). Read the first few sections about nodes, edges and attributes. Write an example below where you create a graph, `G`, and then:\n",
    "1. add some nodes and edges to,\n",
    "2. print its nodes and edges\n",
    "3. delete a node, and\n",
    "4. plot it."
   ]
  },
  {
   "cell_type": "code",
   "execution_count": 94,
   "metadata": {},
   "outputs": [
    {
     "data": {
      "image/png": "[encoded data removed]",
      "text/plain": [
       "<Figure size 432x288 with 1 Axes>"
      ]
     },
     "metadata": {},
     "output_type": "display_data"
    }
   ],
   "source": [
    "# create netowrk\n",
    "network=nx.Graph()\n",
    "# add notes and edges\n",
    "network.add_nodes_from(['a','b','c'])\n",
    "network.add_edges_from([('b','c'),('a','c'),('a','b')])\n",
    "# if you plot now, you will have a triangle\n",
    "network.remove_node('a')\n",
    "# by removing one of the nodes it just becomes a line\n",
    "nx.draw(network, with_labels=True)"
   ]
  },
  {
   "cell_type": "markdown",
   "metadata": {},
   "source": [
    "> **Ex. 5.1.2**: `NetworkX` has lots of functions to generate synthetic networks. One of the most famous types of synthetic networks is called an Erdős–Rényi (ER) network.\n",
    "1. Describe what an ER network is and how to create one.\n",
    "2. On the [`NetworkX` documentations site](https://networkx.github.io/documentation/networkx-1.10/reference/generators.html), find a method you can use for generating an ER network. Create one with $N=100$ nodes and probability of edge creation $p=0.1$.\n",
    "3. Plot the network\n",
    "4. Visualize the [degree distribution](https://en.wikipedia.org/wiki/Degree_distribution) of your newly created ER graph.\n",
    "    * A node's *degree* is the number of other nodes it is connected to.\n",
    "    * The *degree distribution* is a histogram which shows the distribution of node degrees."
   ]
  },
  {
   "cell_type": "markdown",
   "metadata": {},
   "source": [
    "> **Ex. 4.1.3**: Another very famous type of synthetic network is the Barabási–Albert (BA) network.\n",
    "1. Describe what a BA network is and how to create one.\n",
    "2. On the [`NetworkX` documentations site](https://networkx.github.io/documentation/networkx-1.10/reference/generators.html), find a method you can use for generating a BA network. Create one with $N=100$ nodes and number of new edges from each new node $m=2$.\n",
    "3. Plot the network\n",
    "4. Visualize the [degree distribution](https://en.wikipedia.org/wiki/Degree_distribution) of your newly created BA graph.\n",
    "5. Explain the main difference(s) you observe, when comparing to the ER network.\n",
    "6. Are there other measures we could have used to describe the ER and BA networks further?"
   ]
  },
  {
   "cell_type": "markdown",
   "metadata": {},
   "source": [
    "### Part 2: Facebook network"
   ]
  },
  {
   "cell_type": "markdown",
   "metadata": {},
   "source": [
    "Now that you know how to build a network in `NetworkX`, visualize it and plot some statistics, you are ready to analyze today's dataset. We will be using [this facebook dataset](http://socialnetworks.mpi-sws.org/data-wosn2009.html) collected by the researchers at the Max Planck Institute. Go ahead and download the list of wall posts. Put the file in the same directory as this notebook and load it like:"
   ]
  },
  {
   "cell_type": "code",
   "execution_count": 10,
   "metadata": {
    "ExecuteTime": {
     "end_time": "2019-03-04T09:34:34.371875Z",
     "start_time": "2019-03-04T09:34:33.941825Z"
    }
   },
   "outputs": [
    {
     "data": {
      "text/html": [
       "<div>\n",
       "<style scoped>\n",
       "    .dataframe tbody tr th:only-of-type {\n",
       "        vertical-align: middle;\n",
       "    }\n",
       "\n",
       "    .dataframe tbody tr th {\n",
       "        vertical-align: top;\n",
       "    }\n",
       "\n",
       "    .dataframe thead th {\n",
       "        text-align: right;\n",
       "    }\n",
       "</style>\n",
       "<table border=\"1\" class=\"dataframe\">\n",
       "  <thead>\n",
       "    <tr style=\"text-align: right;\">\n",
       "      <th></th>\n",
       "      <th>user1</th>\n",
       "      <th>user2</th>\n",
       "      <th>timestamp</th>\n",
       "    </tr>\n",
       "  </thead>\n",
       "  <tbody>\n",
       "    <tr>\n",
       "      <td>0</td>\n",
       "      <td>28</td>\n",
       "      <td>28</td>\n",
       "      <td>1095135831</td>\n",
       "    </tr>\n",
       "    <tr>\n",
       "      <td>1</td>\n",
       "      <td>1015</td>\n",
       "      <td>1017</td>\n",
       "      <td>1097725406</td>\n",
       "    </tr>\n",
       "    <tr>\n",
       "      <td>2</td>\n",
       "      <td>959</td>\n",
       "      <td>959</td>\n",
       "      <td>1098387569</td>\n",
       "    </tr>\n",
       "    <tr>\n",
       "      <td>3</td>\n",
       "      <td>991</td>\n",
       "      <td>991</td>\n",
       "      <td>1098425204</td>\n",
       "    </tr>\n",
       "    <tr>\n",
       "      <td>4</td>\n",
       "      <td>1015</td>\n",
       "      <td>1017</td>\n",
       "      <td>1098489762</td>\n",
       "    </tr>\n",
       "    <tr>\n",
       "      <td>5</td>\n",
       "      <td>1015</td>\n",
       "      <td>1017</td>\n",
       "      <td>1098673897</td>\n",
       "    </tr>\n",
       "    <tr>\n",
       "      <td>6</td>\n",
       "      <td>3368</td>\n",
       "      <td>3368</td>\n",
       "      <td>1098755376</td>\n",
       "    </tr>\n",
       "    <tr>\n",
       "      <td>7</td>\n",
       "      <td>14752</td>\n",
       "      <td>14736</td>\n",
       "      <td>1099526971</td>\n",
       "    </tr>\n",
       "    <tr>\n",
       "      <td>8</td>\n",
       "      <td>1015</td>\n",
       "      <td>1017</td>\n",
       "      <td>1099602800</td>\n",
       "    </tr>\n",
       "    <tr>\n",
       "      <td>9</td>\n",
       "      <td>1531</td>\n",
       "      <td>1080</td>\n",
       "      <td>1099889279</td>\n",
       "    </tr>\n",
       "  </tbody>\n",
       "</table>\n",
       "</div>"
      ],
      "text/plain": [
       "   user1  user2   timestamp\n",
       "0     28     28  1095135831\n",
       "1   1015   1017  1097725406\n",
       "2    959    959  1098387569\n",
       "3    991    991  1098425204\n",
       "4   1015   1017  1098489762\n",
       "5   1015   1017  1098673897\n",
       "6   3368   3368  1098755376\n",
       "7  14752  14736  1099526971\n",
       "8   1015   1017  1099602800\n",
       "9   1531   1080  1099889279"
      ]
     },
     "execution_count": 10,
     "metadata": {},
     "output_type": "execute_result"
    }
   ],
   "source": [
    "import pandas as pd\n",
    "import networkx as nx        \n",
    "data = pd.read_csv(\n",
    "    r\"C:\\Users\\frede\\Documents\\GitHub\\Spring2020\\SDS EMML\\facebook-wall.txt.gz\",\n",
    "    delimiter=\"\\t\",\n",
    "    header=None,\n",
    "    names=['user1', 'user2', 'timestamp']\n",
    ")\n",
    "\n",
    "data.head(10)"
   ]
  },
  {
   "cell_type": "markdown",
   "metadata": {},
   "source": [
    "As you can see this is a *temporal network* (in that edges are timestamped). Time is given in UNIX timestamps. Though there are ways to model such\n",
    "a network in its entire complexity, we'll start simple and just take a slice of it out and treat that as a static\n",
    "network. You can create a `nx.DiGraph` from a slice of time like:"
   ]
  },
  {
   "cell_type": "code",
   "execution_count": 11,
   "metadata": {
    "ExecuteTime": {
     "end_time": "2019-03-04T09:34:35.302765Z",
     "start_time": "2019-03-04T09:34:35.191046Z"
    }
   },
   "outputs": [],
   "source": [
    "t0 = data.timestamp.max() - 86400 * 7  # Lower bound of time-slice (here: 7 days before last wall post)\n",
    "t1 = data.timestamp.max()              # Upper bound of time-slice\n",
    "\n",
    "# Subset of the pandas dataframe\n",
    "data_t = data.loc[data.timestamp.between(t0, t1)]\n",
    "\n",
    "# Count the number of times each link occurs and store that in a new 'weight' column\n",
    "data_t = data_t.groupby(['user1', 'user2']).size().reset_index(name='weight')\n",
    "\n",
    "# Create a `nx.DiGraph` from this dataframe\n",
    "G_t = nx.from_pandas_edgelist(data_t, 'user1', 'user2', 'weight', create_using=nx.DiGraph)"
   ]
  },
  {
   "cell_type": "markdown",
   "metadata": {},
   "source": [
    "> **Ex: 5.2.1**: Convert the above sample code into a function where you can easily input `t0` and `t1` of the slice, and get a `nx.DiGraph` in return. Create the aggregated network for the last 365 days of the data. Print the number of nodes and edges."
   ]
  },
  {
   "cell_type": "code",
   "execution_count": 15,
   "metadata": {},
   "outputs": [
    {
     "name": "stdout",
     "output_type": "stream",
     "text": [
      "2009-01-15 05:31:31 2009-01-22 05:31:31\n"
     ]
    },
    {
     "data": {
      "text/plain": [
       "<networkx.classes.digraph.DiGraph at 0x274598dd088>"
      ]
     },
     "execution_count": 15,
     "metadata": {},
     "output_type": "execute_result"
    }
   ],
   "source": [
    "from datetime import datetime as dt\n",
    "print(dt.fromtimestamp(t0),dt.fromtimestamp(t1))\n",
    "def create_slice(data,t0,t1):\n",
    "    if isinstance(t0,str):\n",
    "        t0=dt.timestamp(dt.fromisoformat(t0))\n",
    "    if isinstance(t1,str):\n",
    "        t1=dt.timestamp(dt.fromisoformat(t1))\n",
    "    slice=data.loc[data.timestamp.between(t0,t1)]\n",
    "    slice=slice.groupby(['user1','user2']).size().reset_index(name='Weight')\n",
    "    return nx.from_pandas_edgelist(slice, 'user1','user2','Weight',create_using=nx.DiGraph)\n",
    "create_slice(data,t0,t1)"
   ]
  },
  {
   "cell_type": "markdown",
   "metadata": {},
   "source": [
    "> **Ex: 5.2.2**: Since it's a directed network, there are two degree distributions we can plot: one for the\n",
    "in-degrees and another for the out-degrees. Plot them both in the same figure (remember to add a legend).\n",
    "The distribution is very heavy-tailed, so you may want to log-scale both axes. Comment on the result. Does\n",
    "it resemble any of the network models you know?\n",
    ">\n",
    "> *Hint: use `Counter` to count how many times each degree-value occurs and then scatter plot the degree-values\n",
    "against counts. When you log-scale the axes, zero values cause trouble, so you should remove the data point for\n",
    "degree 0.*"
   ]
  },
  {
   "cell_type": "markdown",
   "metadata": {},
   "source": [
    "> **Ex: 5.2.3**: Using a histogram plot the distribution of (weighted) local clustering coefficients ([docs](https://networkx.github.io/documentation/stable/reference/algorithms/generated/networkx.algorithms.cluster.clustering.html#networkx.algorithms.cluster.clustering)). Which distribution does it appear to follow?\n",
    ">\n",
    "> *Hint: figure out how to plot a histogram with logarithmic bins.*"
   ]
  },
  {
   "cell_type": "markdown",
   "metadata": {},
   "source": [
    "We want to plot the network so we can visually get a feeling for how people are connected. `networkx`'s `nx.draw` method won't cut it here, it's too slow and has bad layout support for large networks, so instead we'll use `netwulf` ([docs](https://netwulf.readthedocs.io/)) to visualize networks in a browser-app I made (still in beta, bugs may occur). But even with this tool, the network of one year is still too big to make nice visualizations, so we have to reduce the number of links and nodes by some heuristic. This could for example be to threshold link weight to reduce the number of links, thresholding weighted node degree (or other relevant metrics)."
   ]
  },
  {
   "cell_type": "markdown",
   "metadata": {},
   "source": [
    "> **Ex: 5.2.4**: Threshold the network by some meaningful heuristic so it has around 5000 nodes and 20000 edges. Then launch a visualization of it using `netwulf`, style the network so it looks nice and download (or screenshot) the figure and put it into the cell below. State explicitly what thresholds you apply and why you think they make sense. Comment on the result. Do you see anything interesting in this network or is it just a big hairball?\n",
    ">\n",
    "> *Hint: The longer you let the nodes **wiggle** the nicer the network will look.*"
   ]
  }
 ],
 "metadata": {
  "kernelspec": {
   "display_name": "Python 3",
   "language": "python",
   "name": "python3"
  },
  "language_info": {
   "codemirror_mode": {
    "name": "ipython",
    "version": 3
   },
   "file_extension": ".py",
   "mimetype": "text/x-python",
   "name": "python",
   "nbconvert_exporter": "python",
   "pygments_lexer": "ipython3",
   "version": "3.7.4"
  },
  "nav_menu": {},
  "toc": {
   "base_numbering": 1,
   "nav_menu": {},
   "number_sections": false,
   "sideBar": true,
   "skip_h1_title": false,
   "title_cell": "Table of Contents",
   "title_sidebar": "Contents",
   "toc_cell": false,
   "toc_position": {},
   "toc_section_display": "block",
   "toc_window_display": true
  },
  "varInspector": {
   "cols": {
    "lenName": 16,
    "lenType": 16,
    "lenVar": 40
   },
   "kernels_config": {
    "python": {
     "delete_cmd_postfix": "",
     "delete_cmd_prefix": "del ",
     "library": "var_list.py",
     "varRefreshCmd": "print(var_dic_list())"
    },
    "r": {
     "delete_cmd_postfix": ") ",
     "delete_cmd_prefix": "rm(",
     "library": "var_list.r",
     "varRefreshCmd": "cat(var_dic_list()) "
    }
   },
   "types_to_exclude": [
    "module",
    "function",
    "builtin_function_or_method",
    "instance",
    "_Feature"
   ],
   "window_display": false
  }
 },
 "nbformat": 4,
 "nbformat_minor": 4
}
